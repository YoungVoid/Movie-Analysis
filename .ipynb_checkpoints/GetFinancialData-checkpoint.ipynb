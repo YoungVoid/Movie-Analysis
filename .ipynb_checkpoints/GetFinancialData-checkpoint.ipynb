{
 "cells": [
  {
   "cell_type": "markdown",
   "id": "d4cc254d-bf4e-43d9-b0cb-76c7335ad84b",
   "metadata": {},
   "source": [
    "# Get Financial Data\n",
    "Author: Nian"
   ]
  },
  {
   "cell_type": "code",
   "execution_count": 1,
   "id": "821c56bb-3ab5-4491-a450-49c1a613675d",
   "metadata": {},
   "outputs": [],
   "source": [
    "import pandas as pd\n",
    "import tmdbsimple as tmdb\n",
    "import os, time, json\n",
    "from tqdm.notebook import tqdm_notebook"
   ]
  },
  {
   "cell_type": "code",
   "execution_count": 2,
   "id": "c9af0684-87e2-475f-86ef-f876791ef1b2",
   "metadata": {},
   "outputs": [],
   "source": [
    "# Key Variables\n",
    "tmdb_api_secret = 'C:/Users/nianv/.secret/tmdb_api.json'\n",
    "data_folder = 'Data/'\n",
    "years_to_get = [2000, 2001]\n",
    "api_call_delay = 0.02"
   ]
  },
  {
   "cell_type": "code",
   "execution_count": 3,
   "id": "22c67d23-b99d-42bb-98ea-d61f62bb158a",
   "metadata": {},
   "outputs": [],
   "source": [
    "with open(tmdb_api_secret, 'r') as f:\n",
    "    login = json.load(f)\n",
    "tmdb.API_KEY = login['api-key']"
   ]
  },
  {
   "cell_type": "markdown",
   "id": "3a67b796-1f4d-4f0e-9f8c-f989c0590665",
   "metadata": {},
   "source": [
    "Below functions get_movie (originally get_movie_with_rating) and write_json came from Coding Dojo, adapted as neccessary"
   ]
  },
  {
   "cell_type": "code",
   "execution_count": 4,
   "id": "b1c99383-0941-4d2b-b0c8-2bd3f754ec39",
   "metadata": {},
   "outputs": [],
   "source": [
    "def get_movie(movie_id):\n",
    "    \"\"\"Adapted from sources https://github.com/celiao/tmdbsimple\"\"\"\n",
    "    # Get the movie object for the current id\n",
    "    movie = tmdb.Movies(movie_id)\n",
    "    \n",
    "    #save the .info .releases dictionaries\n",
    "    info = movie.info()\n",
    "    releases = movie.releases()\n",
    "\n",
    "    # Loop through countries in releases\n",
    "    for c in releases['countries']:\n",
    "        # if the country abbreviation == US\n",
    "        if c['iso_3166_1'] == 'US':\n",
    "            ## save a \"certification\" key in info with the certification\n",
    "            info['certification'] = c['certification']\n",
    "            break\n",
    "\n",
    "    return info"
   ]
  },
  {
   "cell_type": "code",
   "execution_count": 5,
   "id": "5941a94c-e7c1-4bfa-a5b0-42e16ca731f6",
   "metadata": {},
   "outputs": [],
   "source": [
    "def write_json(new_data, filename): \n",
    "    \"\"\"Appends a list of records (new_data) to a json file (filename). \n",
    "    Adapted from: https://www.geeksforgeeks.org/append-to-json-file-using-python/\"\"\"  \n",
    "    \n",
    "    with open(filename,'r+') as file:\n",
    "        # First we load existing data into a dict.\n",
    "        file_data = json.load(file)\n",
    "        ## Choose extend or append\n",
    "        if (type(new_data) == list) & (type(file_data) == list):\n",
    "            file_data.extend(new_data)\n",
    "        else:\n",
    "             file_data.append(new_data)\n",
    "        # Sets file's current position at offset.\n",
    "        file.seek(0)\n",
    "        # convert back to json.\n",
    "        json.dump(file_data, file)"
   ]
  },
  {
   "cell_type": "code",
   "execution_count": 6,
   "id": "ce161e7b-8626-4e91-b3b8-27ce191188b8",
   "metadata": {},
   "outputs": [
    {
     "name": "stdout",
     "output_type": "stream",
     "text": [
      "Results Successfully Retrieved: 3\n",
      "Results Failed to Retrieve: 1\n",
      "CPU times: total: 109 ms\n",
      "Wall time: 676 ms\n"
     ]
    }
   ],
   "source": [
    "%%time\n",
    "test_ids = [\"tt0848228\", \"tt0115937\",\"tt0848228\",\"tt0332280\"]\n",
    "results = []\n",
    "errors = []\n",
    "for movie_id in test_ids:\n",
    "    try:\n",
    "        movie_info = get_movie(movie_id)\n",
    "        results.append(movie_info)\n",
    "        \n",
    "    except Exception as e:\n",
    "        errors.append((movie_id, e))\n",
    "\n",
    "pd.DataFrame(results)\n",
    "pd.DataFrame(errors)\n",
    "\n",
    "print(f'Results Successfully Retrieved: {len(results)}')\n",
    "print(f'Results Failed to Retrieve: {len(errors)}')"
   ]
  },
  {
   "cell_type": "code",
   "execution_count": 7,
   "id": "76e48e82-3baa-4df0-b382-05c2e3e86a0c",
   "metadata": {},
   "outputs": [
    {
     "data": {
      "text/plain": [
       "['Errors',\n",
       " 'final_tmdb_data_2000.csv.gz',\n",
       " 'title_akas.csv.gz',\n",
       " 'title_basics.csv.gz',\n",
       " 'title_ratings.csv.gz',\n",
       " 'tmdb_api_results_2000.json']"
      ]
     },
     "execution_count": 7,
     "metadata": {},
     "output_type": "execute_result"
    }
   ],
   "source": [
    "# Setup Data Folder\n",
    "os.makedirs(data_folder, exist_ok=True)\n",
    "os.makedirs(f'{data_folder}Errors/', exist_ok=True)\n",
    "os.listdir(data_folder)"
   ]
  },
  {
   "cell_type": "code",
   "execution_count": 8,
   "id": "9736f87a-7f90-45c2-9dff-34b0a8342925",
   "metadata": {},
   "outputs": [],
   "source": [
    "basics = pd.read_csv(f'{data_folder}title_basics.csv.gz')"
   ]
  },
  {
   "cell_type": "code",
   "execution_count": 9,
   "id": "5c436dda-882d-4c9a-9324-1d0de5cbbd4f",
   "metadata": {},
   "outputs": [
    {
     "data": {
      "application/vnd.jupyter.widget-view+json": {
       "model_id": "f470018650eb4137a2383a680974567f",
       "version_major": 2,
       "version_minor": 0
      },
      "text/plain": [
       "YEARS:   0%|          | 0/2 [00:00<?, ?it/s]"
      ]
     },
     "metadata": {},
     "output_type": "display_data"
    },
    {
     "data": {
      "application/vnd.jupyter.widget-view+json": {
       "model_id": "64524638feea4312a98564a97165d8d7",
       "version_major": 2,
       "version_minor": 0
      },
      "text/plain": [
       "Movies from 2000:   0%|          | 0/1463 [00:00<?, ?it/s]"
      ]
     },
     "metadata": {},
     "output_type": "display_data"
    },
    {
     "name": "stdout",
     "output_type": "stream",
     "text": [
      "Results Successfully Retrieved: 1261\n",
      "Results Failed to Retrieve: 204\n"
     ]
    },
    {
     "data": {
      "application/vnd.jupyter.widget-view+json": {
       "model_id": "3163c3ffa41d43a0b5bf1a276e6ebe05",
       "version_major": 2,
       "version_minor": 0
      },
      "text/plain": [
       "Movies from 2001:   0%|          | 0/1584 [00:00<?, ?it/s]"
      ]
     },
     "metadata": {},
     "output_type": "display_data"
    },
    {
     "name": "stdout",
     "output_type": "stream",
     "text": [
      "Results Successfully Retrieved: 1363\n",
      "Results Failed to Retrieve: 426\n"
     ]
    }
   ],
   "source": [
    "for year in tqdm_notebook(years_to_get, desc='YEARS', position=0):\n",
    "    json_file = f'{data_folder}tmdb_api_results_{year}.json'\n",
    "    file_exists = os.path.isfile(json_file)\n",
    "    if not file_exists:\n",
    "        with open(json_file, 'w') as f:\n",
    "            json.dump([{'imdb_id':0}], f)\n",
    "            \n",
    "    df = basics.loc[basics['startYear']==year].copy()\n",
    "    movie_ids = df['tconst'].copy()\n",
    "    previous_df = pd.read_json(json_file)\n",
    "    movie_ids_to_get = movie_ids[~movie_ids.isin(previous_df['imdb_id'])]\n",
    "\n",
    "    for movie_id in tqdm_notebook(movie_ids_to_get,\n",
    "                                  desc=f'Movies from {year}',\n",
    "                                  position=1,\n",
    "                                  leave=True):\n",
    "        try:\n",
    "            write_json(get_movie(movie_id), json_file)\n",
    "            time.sleep(api_call_delay)\n",
    "\n",
    "        except Exception as e:\n",
    "            errors.append((movie_id, e))\n",
    "\n",
    "    results_df = pd.read_json(json_file)\n",
    "    results_df.to_csv(f'{data_folder}final_tmdb_data_{year}.csv.gz', compression='gzip', index=False)\n",
    "    errors_df = pd.DataFrame(errors)\n",
    "    errors_df.to_csv(f'{data_folder}Errors/final_tmdb_data_errors_{year}.csv.gz', compression='gzip', index=False)\n",
    "\n",
    "    print(f'Results Successfully Retrieved: {results_df.shape[0]}')\n",
    "    print(f'Results Failed to Retrieve: {errors_df.shape[0]}')\n",
    "    "
   ]
  }
 ],
 "metadata": {
  "kernelspec": {
   "display_name": "Python 3 (ipykernel)",
   "language": "python",
   "name": "python3"
  },
  "language_info": {
   "codemirror_mode": {
    "name": "ipython",
    "version": 3
   },
   "file_extension": ".py",
   "mimetype": "text/x-python",
   "name": "python",
   "nbconvert_exporter": "python",
   "pygments_lexer": "ipython3",
   "version": "3.10.10"
  },
  "widgets": {
   "application/vnd.jupyter.widget-state+json": {
    "state": {
     "0ab65bee8aea429ebaa712eac13244a9": {
      "model_module": "@jupyter-widgets/base",
      "model_module_version": "2.0.0",
      "model_name": "LayoutModel",
      "state": {}
     },
     "2365a078476d4d658ce705755a7bc911": {
      "model_module": "@jupyter-widgets/base",
      "model_module_version": "2.0.0",
      "model_name": "LayoutModel",
      "state": {}
     },
     "2714e7c8b6e041889e156c8ec235be81": {
      "model_module": "@jupyter-widgets/controls",
      "model_module_version": "2.0.0",
      "model_name": "FloatProgressModel",
      "state": {
       "bar_style": "success",
       "layout": "IPY_MODEL_5c7d2b1a0cb44d38b349d2d4e3a59ccb",
       "max": 1463,
       "style": "IPY_MODEL_a093752c2d9745a298aaac57fae2de1c",
       "value": 1463
      }
     },
     "29224bea32274b24a76921551460ad2b": {
      "model_module": "@jupyter-widgets/base",
      "model_module_version": "2.0.0",
      "model_name": "LayoutModel",
      "state": {}
     },
     "2e47c5f510654661b8d23f071b9bb172": {
      "model_module": "@jupyter-widgets/controls",
      "model_module_version": "2.0.0",
      "model_name": "FloatProgressModel",
      "state": {
       "bar_style": "success",
       "layout": "IPY_MODEL_0ab65bee8aea429ebaa712eac13244a9",
       "max": 2,
       "style": "IPY_MODEL_ee9d5e0b2e0244928f225d10fd8aa62e",
       "value": 2
      }
     },
     "3163c3ffa41d43a0b5bf1a276e6ebe05": {
      "model_module": "@jupyter-widgets/controls",
      "model_module_version": "2.0.0",
      "model_name": "HBoxModel",
      "state": {
       "children": [
        "IPY_MODEL_7381f942fcb3417ead4e0807154ee0d5",
        "IPY_MODEL_f5123fe17f074716b811f0cbf1943066",
        "IPY_MODEL_dcab5ef2ce374a9d90fbe2585715c2fb"
       ],
       "layout": "IPY_MODEL_8b31c2ca69f44ba3bc1fa3738d10c1b2"
      }
     },
     "34776f119ba4488280169e67734a1177": {
      "model_module": "@jupyter-widgets/controls",
      "model_module_version": "2.0.0",
      "model_name": "HTMLStyleModel",
      "state": {
       "description_width": "",
       "font_size": null,
       "text_color": null
      }
     },
     "3ab541ffc5a447729b2de669142a2853": {
      "model_module": "@jupyter-widgets/base",
      "model_module_version": "2.0.0",
      "model_name": "LayoutModel",
      "state": {}
     },
     "41cae32f05e045f79bec761d52cfa980": {
      "model_module": "@jupyter-widgets/controls",
      "model_module_version": "2.0.0",
      "model_name": "HTMLStyleModel",
      "state": {
       "description_width": "",
       "font_size": null,
       "text_color": null
      }
     },
     "4675a18a39ef4f95b125a0b339d0adaf": {
      "model_module": "@jupyter-widgets/controls",
      "model_module_version": "2.0.0",
      "model_name": "HTMLStyleModel",
      "state": {
       "description_width": "",
       "font_size": null,
       "text_color": null
      }
     },
     "4844b5c7b68d4f5489ad8ac7173cb48b": {
      "model_module": "@jupyter-widgets/controls",
      "model_module_version": "2.0.0",
      "model_name": "HTMLModel",
      "state": {
       "layout": "IPY_MODEL_4a9f7607dbee4cf1aa93f677e2b99e67",
       "style": "IPY_MODEL_34776f119ba4488280169e67734a1177",
       "value": "YEARS: 100%"
      }
     },
     "4a9f7607dbee4cf1aa93f677e2b99e67": {
      "model_module": "@jupyter-widgets/base",
      "model_module_version": "2.0.0",
      "model_name": "LayoutModel",
      "state": {}
     },
     "5c7d2b1a0cb44d38b349d2d4e3a59ccb": {
      "model_module": "@jupyter-widgets/base",
      "model_module_version": "2.0.0",
      "model_name": "LayoutModel",
      "state": {}
     },
     "64524638feea4312a98564a97165d8d7": {
      "model_module": "@jupyter-widgets/controls",
      "model_module_version": "2.0.0",
      "model_name": "HBoxModel",
      "state": {
       "children": [
        "IPY_MODEL_f5757b6167e54351bcbc5f354f9517b6",
        "IPY_MODEL_2714e7c8b6e041889e156c8ec235be81",
        "IPY_MODEL_dc179cb2bace466395258213154b7083"
       ],
       "layout": "IPY_MODEL_d8b57dfd30b643f9bfb3bee2f6234a0d"
      }
     },
     "6b5d44184b954e7e9269488f599f0d4c": {
      "model_module": "@jupyter-widgets/controls",
      "model_module_version": "2.0.0",
      "model_name": "HTMLStyleModel",
      "state": {
       "description_width": "",
       "font_size": null,
       "text_color": null
      }
     },
     "7381f942fcb3417ead4e0807154ee0d5": {
      "model_module": "@jupyter-widgets/controls",
      "model_module_version": "2.0.0",
      "model_name": "HTMLModel",
      "state": {
       "layout": "IPY_MODEL_cc68ec6478f04b2594020d1b3f52fc14",
       "style": "IPY_MODEL_8d467fbd52194dbe8e836c9834e25d73",
       "value": "Movies from 2001: 100%"
      }
     },
     "7b05e9ca80a04640b2c3622f3c148f86": {
      "model_module": "@jupyter-widgets/base",
      "model_module_version": "2.0.0",
      "model_name": "LayoutModel",
      "state": {}
     },
     "876503c50fa24f7dba042473aa38f397": {
      "model_module": "@jupyter-widgets/controls",
      "model_module_version": "2.0.0",
      "model_name": "HTMLModel",
      "state": {
       "layout": "IPY_MODEL_7b05e9ca80a04640b2c3622f3c148f86",
       "style": "IPY_MODEL_4675a18a39ef4f95b125a0b339d0adaf",
       "value": " 2/2 [54:02&lt;00:00, 1637.52s/it]"
      }
     },
     "8b31c2ca69f44ba3bc1fa3738d10c1b2": {
      "model_module": "@jupyter-widgets/base",
      "model_module_version": "2.0.0",
      "model_name": "LayoutModel",
      "state": {}
     },
     "8d467fbd52194dbe8e836c9834e25d73": {
      "model_module": "@jupyter-widgets/controls",
      "model_module_version": "2.0.0",
      "model_name": "HTMLStyleModel",
      "state": {
       "description_width": "",
       "font_size": null,
       "text_color": null
      }
     },
     "a093752c2d9745a298aaac57fae2de1c": {
      "model_module": "@jupyter-widgets/controls",
      "model_module_version": "2.0.0",
      "model_name": "ProgressStyleModel",
      "state": {
       "description_width": ""
      }
     },
     "a38c4f718e534f3dba4d32da74429454": {
      "model_module": "@jupyter-widgets/base",
      "model_module_version": "2.0.0",
      "model_name": "LayoutModel",
      "state": {}
     },
     "accb9e92e1d54ebabad34cf2304267c7": {
      "model_module": "@jupyter-widgets/controls",
      "model_module_version": "2.0.0",
      "model_name": "ProgressStyleModel",
      "state": {
       "description_width": ""
      }
     },
     "cc68ec6478f04b2594020d1b3f52fc14": {
      "model_module": "@jupyter-widgets/base",
      "model_module_version": "2.0.0",
      "model_name": "LayoutModel",
      "state": {}
     },
     "d8b57dfd30b643f9bfb3bee2f6234a0d": {
      "model_module": "@jupyter-widgets/base",
      "model_module_version": "2.0.0",
      "model_name": "LayoutModel",
      "state": {}
     },
     "dc179cb2bace466395258213154b7083": {
      "model_module": "@jupyter-widgets/controls",
      "model_module_version": "2.0.0",
      "model_name": "HTMLModel",
      "state": {
       "layout": "IPY_MODEL_2365a078476d4d658ce705755a7bc911",
       "style": "IPY_MODEL_f245265eeaec4ea7896395a4382d52bf",
       "value": " 1463/1463 [25:27&lt;00:00,  1.23it/s]"
      }
     },
     "dcab5ef2ce374a9d90fbe2585715c2fb": {
      "model_module": "@jupyter-widgets/controls",
      "model_module_version": "2.0.0",
      "model_name": "HTMLModel",
      "state": {
       "layout": "IPY_MODEL_a38c4f718e534f3dba4d32da74429454",
       "style": "IPY_MODEL_41cae32f05e045f79bec761d52cfa980",
       "value": " 1584/1584 [28:33&lt;00:00,  1.70it/s]"
      }
     },
     "ee9d5e0b2e0244928f225d10fd8aa62e": {
      "model_module": "@jupyter-widgets/controls",
      "model_module_version": "2.0.0",
      "model_name": "ProgressStyleModel",
      "state": {
       "description_width": ""
      }
     },
     "f19e3e5709d547a1891468ff8b2ef180": {
      "model_module": "@jupyter-widgets/base",
      "model_module_version": "2.0.0",
      "model_name": "LayoutModel",
      "state": {}
     },
     "f245265eeaec4ea7896395a4382d52bf": {
      "model_module": "@jupyter-widgets/controls",
      "model_module_version": "2.0.0",
      "model_name": "HTMLStyleModel",
      "state": {
       "description_width": "",
       "font_size": null,
       "text_color": null
      }
     },
     "f470018650eb4137a2383a680974567f": {
      "model_module": "@jupyter-widgets/controls",
      "model_module_version": "2.0.0",
      "model_name": "HBoxModel",
      "state": {
       "children": [
        "IPY_MODEL_4844b5c7b68d4f5489ad8ac7173cb48b",
        "IPY_MODEL_2e47c5f510654661b8d23f071b9bb172",
        "IPY_MODEL_876503c50fa24f7dba042473aa38f397"
       ],
       "layout": "IPY_MODEL_3ab541ffc5a447729b2de669142a2853"
      }
     },
     "f5123fe17f074716b811f0cbf1943066": {
      "model_module": "@jupyter-widgets/controls",
      "model_module_version": "2.0.0",
      "model_name": "FloatProgressModel",
      "state": {
       "bar_style": "success",
       "layout": "IPY_MODEL_f19e3e5709d547a1891468ff8b2ef180",
       "max": 1584,
       "style": "IPY_MODEL_accb9e92e1d54ebabad34cf2304267c7",
       "value": 1584
      }
     },
     "f5757b6167e54351bcbc5f354f9517b6": {
      "model_module": "@jupyter-widgets/controls",
      "model_module_version": "2.0.0",
      "model_name": "HTMLModel",
      "state": {
       "layout": "IPY_MODEL_29224bea32274b24a76921551460ad2b",
       "style": "IPY_MODEL_6b5d44184b954e7e9269488f599f0d4c",
       "value": "Movies from 2000: 100%"
      }
     }
    },
    "version_major": 2,
    "version_minor": 0
   }
  }
 },
 "nbformat": 4,
 "nbformat_minor": 5
}
