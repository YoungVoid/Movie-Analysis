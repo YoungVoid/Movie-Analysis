{
 "cells": [
  {
   "cell_type": "markdown",
   "id": "ae2fd331-f365-4ad3-9a09-3029bb229349",
   "metadata": {},
   "source": [
    "# Exploratory Data Analysis\n",
    "Author: Nian Vrey"
   ]
  },
  {
   "cell_type": "code",
   "execution_count": 1,
   "id": "28a75110-36ee-485a-96a1-0b5d95e3e744",
   "metadata": {},
   "outputs": [],
   "source": [
    "import pandas as pd\n",
    "import numpy as np\n",
    "import os\n",
    "from glob import glob\n",
    "import seaborn as sns\n",
    "sns.set_theme(rc={'axes.formatter.limits': (-8, 9)})"
   ]
  },
  {
   "cell_type": "code",
   "execution_count": 2,
   "id": "46500e08-cdf9-4094-b86c-69397f0e1e57",
   "metadata": {},
   "outputs": [],
   "source": [
    "data_folder = 'Data/'\n",
    "result_file_name = 'final_tmdb_data_201*.csv.gz'\n",
    "combined_output_file = 'tmdb_results_combined'"
   ]
  },
  {
   "cell_type": "code",
   "execution_count": 14,
   "id": "a5c0fdcf-54f7-48be-8709-250744ca2b99",
   "metadata": {},
   "outputs": [
    {
     "data": {
      "text/plain": [
       "['Data\\\\final_tmdb_data_2010.csv.gz',\n",
       " 'Data\\\\final_tmdb_data_2011.csv.gz',\n",
       " 'Data\\\\final_tmdb_data_2012.csv.gz',\n",
       " 'Data\\\\final_tmdb_data_2013.csv.gz',\n",
       " 'Data\\\\final_tmdb_data_2014.csv.gz',\n",
       " 'Data\\\\final_tmdb_data_2015.csv.gz',\n",
       " 'Data\\\\final_tmdb_data_2016.csv.gz',\n",
       " 'Data\\\\final_tmdb_data_2017.csv.gz',\n",
       " 'Data\\\\final_tmdb_data_2018.csv.gz',\n",
       " 'Data\\\\final_tmdb_data_2019.csv.gz']"
      ]
     },
     "execution_count": 14,
     "metadata": {},
     "output_type": "execute_result"
    }
   ],
   "source": [
    "# Get result files (allows us to call the Get Financial Data notebook for multiple years)\n",
    "result_files = glob(f'{data_folder}{result_file_name}')\n",
    "result_files"
   ]
  },
  {
   "cell_type": "code",
   "execution_count": 3,
   "id": "f1944549-75df-422d-bd39-cd5d4e2e045f",
   "metadata": {},
   "outputs": [
    {
     "name": "stdout",
     "output_type": "stream",
     "text": [
      "(38578, 26)\n"
     ]
    },
    {
     "data": {
      "text/html": [
       "<div>\n",
       "<style scoped>\n",
       "    .dataframe tbody tr th:only-of-type {\n",
       "        vertical-align: middle;\n",
       "    }\n",
       "\n",
       "    .dataframe tbody tr th {\n",
       "        vertical-align: top;\n",
       "    }\n",
       "\n",
       "    .dataframe thead th {\n",
       "        text-align: right;\n",
       "    }\n",
       "</style>\n",
       "<table border=\"1\" class=\"dataframe\">\n",
       "  <thead>\n",
       "    <tr style=\"text-align: right;\">\n",
       "      <th></th>\n",
       "      <th>imdb_id</th>\n",
       "      <th>adult</th>\n",
       "      <th>backdrop_path</th>\n",
       "      <th>belongs_to_collection</th>\n",
       "      <th>budget</th>\n",
       "      <th>genres</th>\n",
       "      <th>homepage</th>\n",
       "      <th>id</th>\n",
       "      <th>original_language</th>\n",
       "      <th>original_title</th>\n",
       "      <th>...</th>\n",
       "      <th>revenue</th>\n",
       "      <th>runtime</th>\n",
       "      <th>spoken_languages</th>\n",
       "      <th>status</th>\n",
       "      <th>tagline</th>\n",
       "      <th>title</th>\n",
       "      <th>video</th>\n",
       "      <th>vote_average</th>\n",
       "      <th>vote_count</th>\n",
       "      <th>certification</th>\n",
       "    </tr>\n",
       "  </thead>\n",
       "  <tbody>\n",
       "    <tr>\n",
       "      <th>0</th>\n",
       "      <td>0</td>\n",
       "      <td>NaN</td>\n",
       "      <td>NaN</td>\n",
       "      <td>NaN</td>\n",
       "      <td>NaN</td>\n",
       "      <td>NaN</td>\n",
       "      <td>NaN</td>\n",
       "      <td>NaN</td>\n",
       "      <td>NaN</td>\n",
       "      <td>NaN</td>\n",
       "      <td>...</td>\n",
       "      <td>NaN</td>\n",
       "      <td>NaN</td>\n",
       "      <td>NaN</td>\n",
       "      <td>NaN</td>\n",
       "      <td>NaN</td>\n",
       "      <td>NaN</td>\n",
       "      <td>NaN</td>\n",
       "      <td>NaN</td>\n",
       "      <td>NaN</td>\n",
       "      <td>NaN</td>\n",
       "    </tr>\n",
       "    <tr>\n",
       "      <th>1</th>\n",
       "      <td>tt0312305</td>\n",
       "      <td>0.0</td>\n",
       "      <td>/lqUbt2cy2pnqvxKefbQAtxLS0WA.jpg</td>\n",
       "      <td>NaN</td>\n",
       "      <td>0.0</td>\n",
       "      <td>[{'id': 10751, 'name': 'Family'}, {'id': 16, '...</td>\n",
       "      <td>http://www.qqthemovie.com/</td>\n",
       "      <td>23738.0</td>\n",
       "      <td>en</td>\n",
       "      <td>Quantum Quest: A Cassini Space Odyssey</td>\n",
       "      <td>...</td>\n",
       "      <td>0.0</td>\n",
       "      <td>45.0</td>\n",
       "      <td>[{'english_name': 'English', 'iso_639_1': 'en'...</td>\n",
       "      <td>Released</td>\n",
       "      <td>NaN</td>\n",
       "      <td>Quantum Quest: A Cassini Space Odyssey</td>\n",
       "      <td>0.0</td>\n",
       "      <td>7.900</td>\n",
       "      <td>8.0</td>\n",
       "      <td>NaN</td>\n",
       "    </tr>\n",
       "    <tr>\n",
       "      <th>2</th>\n",
       "      <td>tt0326965</td>\n",
       "      <td>0.0</td>\n",
       "      <td>/xt2klJdKCVGXcoBGQrGfAS0aGDE.jpg</td>\n",
       "      <td>NaN</td>\n",
       "      <td>0.0</td>\n",
       "      <td>[{'id': 53, 'name': 'Thriller'}, {'id': 9648, ...</td>\n",
       "      <td>http://www.inmysleep.com</td>\n",
       "      <td>40048.0</td>\n",
       "      <td>en</td>\n",
       "      <td>In My Sleep</td>\n",
       "      <td>...</td>\n",
       "      <td>0.0</td>\n",
       "      <td>90.0</td>\n",
       "      <td>[{'english_name': 'English', 'iso_639_1': 'en'...</td>\n",
       "      <td>Released</td>\n",
       "      <td>Sleepwalking can be deadly.</td>\n",
       "      <td>In My Sleep</td>\n",
       "      <td>0.0</td>\n",
       "      <td>5.318</td>\n",
       "      <td>33.0</td>\n",
       "      <td>PG-13</td>\n",
       "    </tr>\n",
       "    <tr>\n",
       "      <th>3</th>\n",
       "      <td>tt0331312</td>\n",
       "      <td>0.0</td>\n",
       "      <td>NaN</td>\n",
       "      <td>NaN</td>\n",
       "      <td>0.0</td>\n",
       "      <td>[]</td>\n",
       "      <td>NaN</td>\n",
       "      <td>214026.0</td>\n",
       "      <td>en</td>\n",
       "      <td>This Wretched Life</td>\n",
       "      <td>...</td>\n",
       "      <td>0.0</td>\n",
       "      <td>0.0</td>\n",
       "      <td>[]</td>\n",
       "      <td>Released</td>\n",
       "      <td>NaN</td>\n",
       "      <td>This Wretched Life</td>\n",
       "      <td>0.0</td>\n",
       "      <td>5.000</td>\n",
       "      <td>1.0</td>\n",
       "      <td>NaN</td>\n",
       "    </tr>\n",
       "    <tr>\n",
       "      <th>4</th>\n",
       "      <td>tt0393049</td>\n",
       "      <td>0.0</td>\n",
       "      <td>/gc9FN5zohhzCt05RkejQIIPLtBl.jpg</td>\n",
       "      <td>NaN</td>\n",
       "      <td>300000.0</td>\n",
       "      <td>[{'id': 10749, 'name': 'Romance'}, {'id': 35, ...</td>\n",
       "      <td>NaN</td>\n",
       "      <td>324352.0</td>\n",
       "      <td>en</td>\n",
       "      <td>Anderson's Cross</td>\n",
       "      <td>...</td>\n",
       "      <td>0.0</td>\n",
       "      <td>98.0</td>\n",
       "      <td>[{'english_name': 'English', 'iso_639_1': 'en'...</td>\n",
       "      <td>Released</td>\n",
       "      <td>Sometimes the boy next door is more than the b...</td>\n",
       "      <td>Anderson's Cross</td>\n",
       "      <td>0.0</td>\n",
       "      <td>4.000</td>\n",
       "      <td>5.0</td>\n",
       "      <td>NaN</td>\n",
       "    </tr>\n",
       "  </tbody>\n",
       "</table>\n",
       "<p>5 rows × 26 columns</p>\n",
       "</div>"
      ],
      "text/plain": [
       "     imdb_id  adult                     backdrop_path belongs_to_collection  \\\n",
       "0          0    NaN                               NaN                   NaN   \n",
       "1  tt0312305    0.0  /lqUbt2cy2pnqvxKefbQAtxLS0WA.jpg                   NaN   \n",
       "2  tt0326965    0.0  /xt2klJdKCVGXcoBGQrGfAS0aGDE.jpg                   NaN   \n",
       "3  tt0331312    0.0                               NaN                   NaN   \n",
       "4  tt0393049    0.0  /gc9FN5zohhzCt05RkejQIIPLtBl.jpg                   NaN   \n",
       "\n",
       "     budget                                             genres  \\\n",
       "0       NaN                                                NaN   \n",
       "1       0.0  [{'id': 10751, 'name': 'Family'}, {'id': 16, '...   \n",
       "2       0.0  [{'id': 53, 'name': 'Thriller'}, {'id': 9648, ...   \n",
       "3       0.0                                                 []   \n",
       "4  300000.0  [{'id': 10749, 'name': 'Romance'}, {'id': 35, ...   \n",
       "\n",
       "                     homepage        id original_language  \\\n",
       "0                         NaN       NaN               NaN   \n",
       "1  http://www.qqthemovie.com/   23738.0                en   \n",
       "2    http://www.inmysleep.com   40048.0                en   \n",
       "3                         NaN  214026.0                en   \n",
       "4                         NaN  324352.0                en   \n",
       "\n",
       "                           original_title  ... revenue  runtime  \\\n",
       "0                                     NaN  ...     NaN      NaN   \n",
       "1  Quantum Quest: A Cassini Space Odyssey  ...     0.0     45.0   \n",
       "2                             In My Sleep  ...     0.0     90.0   \n",
       "3                      This Wretched Life  ...     0.0      0.0   \n",
       "4                        Anderson's Cross  ...     0.0     98.0   \n",
       "\n",
       "                                    spoken_languages    status  \\\n",
       "0                                                NaN       NaN   \n",
       "1  [{'english_name': 'English', 'iso_639_1': 'en'...  Released   \n",
       "2  [{'english_name': 'English', 'iso_639_1': 'en'...  Released   \n",
       "3                                                 []  Released   \n",
       "4  [{'english_name': 'English', 'iso_639_1': 'en'...  Released   \n",
       "\n",
       "                                             tagline  \\\n",
       "0                                                NaN   \n",
       "1                                                NaN   \n",
       "2                        Sleepwalking can be deadly.   \n",
       "3                                                NaN   \n",
       "4  Sometimes the boy next door is more than the b...   \n",
       "\n",
       "                                    title  video  vote_average vote_count  \\\n",
       "0                                     NaN    NaN           NaN        NaN   \n",
       "1  Quantum Quest: A Cassini Space Odyssey    0.0         7.900        8.0   \n",
       "2                             In My Sleep    0.0         5.318       33.0   \n",
       "3                      This Wretched Life    0.0         5.000        1.0   \n",
       "4                        Anderson's Cross    0.0         4.000        5.0   \n",
       "\n",
       "  certification  \n",
       "0           NaN  \n",
       "1           NaN  \n",
       "2         PG-13  \n",
       "3           NaN  \n",
       "4           NaN  \n",
       "\n",
       "[5 rows x 26 columns]"
      ]
     },
     "execution_count": 3,
     "metadata": {},
     "output_type": "execute_result"
    }
   ],
   "source": [
    "# Concat all result files into one file\n",
    "df = pd.concat([pd.read_csv(file) for file in result_files], axis=0)\n",
    "df.to_csv(f'{data_folder}{combined_output_file}.csv.gz', compression='gzip', index=False)\n",
    "print(df.shape)\n",
    "df.head()"
   ]
  },
  {
   "cell_type": "code",
   "execution_count": 4,
   "id": "ddf06d54-3c41-431a-889a-f8dcb86b8a37",
   "metadata": {},
   "outputs": [
    {
     "data": {
      "text/html": [
       "<div>\n",
       "<style scoped>\n",
       "    .dataframe tbody tr th:only-of-type {\n",
       "        vertical-align: middle;\n",
       "    }\n",
       "\n",
       "    .dataframe tbody tr th {\n",
       "        vertical-align: top;\n",
       "    }\n",
       "\n",
       "    .dataframe thead th {\n",
       "        text-align: right;\n",
       "    }\n",
       "</style>\n",
       "<table border=\"1\" class=\"dataframe\">\n",
       "  <thead>\n",
       "    <tr style=\"text-align: right;\">\n",
       "      <th></th>\n",
       "      <th>imdb_id</th>\n",
       "      <th>adult</th>\n",
       "      <th>backdrop_path</th>\n",
       "      <th>belongs_to_collection</th>\n",
       "      <th>budget</th>\n",
       "      <th>genres</th>\n",
       "      <th>homepage</th>\n",
       "      <th>id</th>\n",
       "      <th>original_language</th>\n",
       "      <th>original_title</th>\n",
       "      <th>...</th>\n",
       "      <th>revenue</th>\n",
       "      <th>runtime</th>\n",
       "      <th>spoken_languages</th>\n",
       "      <th>status</th>\n",
       "      <th>tagline</th>\n",
       "      <th>title</th>\n",
       "      <th>video</th>\n",
       "      <th>vote_average</th>\n",
       "      <th>vote_count</th>\n",
       "      <th>certification</th>\n",
       "    </tr>\n",
       "  </thead>\n",
       "  <tbody>\n",
       "    <tr>\n",
       "      <th>0</th>\n",
       "      <td>0</td>\n",
       "      <td>NaN</td>\n",
       "      <td>NaN</td>\n",
       "      <td>NaN</td>\n",
       "      <td>NaN</td>\n",
       "      <td>NaN</td>\n",
       "      <td>NaN</td>\n",
       "      <td>NaN</td>\n",
       "      <td>NaN</td>\n",
       "      <td>NaN</td>\n",
       "      <td>...</td>\n",
       "      <td>NaN</td>\n",
       "      <td>NaN</td>\n",
       "      <td>NaN</td>\n",
       "      <td>NaN</td>\n",
       "      <td>NaN</td>\n",
       "      <td>NaN</td>\n",
       "      <td>NaN</td>\n",
       "      <td>NaN</td>\n",
       "      <td>NaN</td>\n",
       "      <td>NaN</td>\n",
       "    </tr>\n",
       "    <tr>\n",
       "      <th>1</th>\n",
       "      <td>tt0312305</td>\n",
       "      <td>0.0</td>\n",
       "      <td>/lqUbt2cy2pnqvxKefbQAtxLS0WA.jpg</td>\n",
       "      <td>NaN</td>\n",
       "      <td>0.0</td>\n",
       "      <td>[{'id': 10751, 'name': 'Family'}, {'id': 16, '...</td>\n",
       "      <td>http://www.qqthemovie.com/</td>\n",
       "      <td>23738.0</td>\n",
       "      <td>en</td>\n",
       "      <td>Quantum Quest: A Cassini Space Odyssey</td>\n",
       "      <td>...</td>\n",
       "      <td>0.0</td>\n",
       "      <td>45.0</td>\n",
       "      <td>[{'english_name': 'English', 'iso_639_1': 'en'...</td>\n",
       "      <td>Released</td>\n",
       "      <td>NaN</td>\n",
       "      <td>Quantum Quest: A Cassini Space Odyssey</td>\n",
       "      <td>0.0</td>\n",
       "      <td>7.900</td>\n",
       "      <td>8.0</td>\n",
       "      <td>NaN</td>\n",
       "    </tr>\n",
       "    <tr>\n",
       "      <th>2</th>\n",
       "      <td>tt0326965</td>\n",
       "      <td>0.0</td>\n",
       "      <td>/xt2klJdKCVGXcoBGQrGfAS0aGDE.jpg</td>\n",
       "      <td>NaN</td>\n",
       "      <td>0.0</td>\n",
       "      <td>[{'id': 53, 'name': 'Thriller'}, {'id': 9648, ...</td>\n",
       "      <td>http://www.inmysleep.com</td>\n",
       "      <td>40048.0</td>\n",
       "      <td>en</td>\n",
       "      <td>In My Sleep</td>\n",
       "      <td>...</td>\n",
       "      <td>0.0</td>\n",
       "      <td>90.0</td>\n",
       "      <td>[{'english_name': 'English', 'iso_639_1': 'en'...</td>\n",
       "      <td>Released</td>\n",
       "      <td>Sleepwalking can be deadly.</td>\n",
       "      <td>In My Sleep</td>\n",
       "      <td>0.0</td>\n",
       "      <td>5.318</td>\n",
       "      <td>33.0</td>\n",
       "      <td>PG-13</td>\n",
       "    </tr>\n",
       "    <tr>\n",
       "      <th>3</th>\n",
       "      <td>tt0331312</td>\n",
       "      <td>0.0</td>\n",
       "      <td>NaN</td>\n",
       "      <td>NaN</td>\n",
       "      <td>0.0</td>\n",
       "      <td>[]</td>\n",
       "      <td>NaN</td>\n",
       "      <td>214026.0</td>\n",
       "      <td>en</td>\n",
       "      <td>This Wretched Life</td>\n",
       "      <td>...</td>\n",
       "      <td>0.0</td>\n",
       "      <td>0.0</td>\n",
       "      <td>[]</td>\n",
       "      <td>Released</td>\n",
       "      <td>NaN</td>\n",
       "      <td>This Wretched Life</td>\n",
       "      <td>0.0</td>\n",
       "      <td>5.000</td>\n",
       "      <td>1.0</td>\n",
       "      <td>NaN</td>\n",
       "    </tr>\n",
       "    <tr>\n",
       "      <th>4</th>\n",
       "      <td>tt0393049</td>\n",
       "      <td>0.0</td>\n",
       "      <td>/gc9FN5zohhzCt05RkejQIIPLtBl.jpg</td>\n",
       "      <td>NaN</td>\n",
       "      <td>300000.0</td>\n",
       "      <td>[{'id': 10749, 'name': 'Romance'}, {'id': 35, ...</td>\n",
       "      <td>NaN</td>\n",
       "      <td>324352.0</td>\n",
       "      <td>en</td>\n",
       "      <td>Anderson's Cross</td>\n",
       "      <td>...</td>\n",
       "      <td>0.0</td>\n",
       "      <td>98.0</td>\n",
       "      <td>[{'english_name': 'English', 'iso_639_1': 'en'...</td>\n",
       "      <td>Released</td>\n",
       "      <td>Sometimes the boy next door is more than the b...</td>\n",
       "      <td>Anderson's Cross</td>\n",
       "      <td>0.0</td>\n",
       "      <td>4.000</td>\n",
       "      <td>5.0</td>\n",
       "      <td>NaN</td>\n",
       "    </tr>\n",
       "  </tbody>\n",
       "</table>\n",
       "<p>5 rows × 26 columns</p>\n",
       "</div>"
      ],
      "text/plain": [
       "     imdb_id  adult                     backdrop_path belongs_to_collection  \\\n",
       "0          0    NaN                               NaN                   NaN   \n",
       "1  tt0312305    0.0  /lqUbt2cy2pnqvxKefbQAtxLS0WA.jpg                   NaN   \n",
       "2  tt0326965    0.0  /xt2klJdKCVGXcoBGQrGfAS0aGDE.jpg                   NaN   \n",
       "3  tt0331312    0.0                               NaN                   NaN   \n",
       "4  tt0393049    0.0  /gc9FN5zohhzCt05RkejQIIPLtBl.jpg                   NaN   \n",
       "\n",
       "     budget                                             genres  \\\n",
       "0       NaN                                                NaN   \n",
       "1       0.0  [{'id': 10751, 'name': 'Family'}, {'id': 16, '...   \n",
       "2       0.0  [{'id': 53, 'name': 'Thriller'}, {'id': 9648, ...   \n",
       "3       0.0                                                 []   \n",
       "4  300000.0  [{'id': 10749, 'name': 'Romance'}, {'id': 35, ...   \n",
       "\n",
       "                     homepage        id original_language  \\\n",
       "0                         NaN       NaN               NaN   \n",
       "1  http://www.qqthemovie.com/   23738.0                en   \n",
       "2    http://www.inmysleep.com   40048.0                en   \n",
       "3                         NaN  214026.0                en   \n",
       "4                         NaN  324352.0                en   \n",
       "\n",
       "                           original_title  ... revenue  runtime  \\\n",
       "0                                     NaN  ...     NaN      NaN   \n",
       "1  Quantum Quest: A Cassini Space Odyssey  ...     0.0     45.0   \n",
       "2                             In My Sleep  ...     0.0     90.0   \n",
       "3                      This Wretched Life  ...     0.0      0.0   \n",
       "4                        Anderson's Cross  ...     0.0     98.0   \n",
       "\n",
       "                                    spoken_languages    status  \\\n",
       "0                                                NaN       NaN   \n",
       "1  [{'english_name': 'English', 'iso_639_1': 'en'...  Released   \n",
       "2  [{'english_name': 'English', 'iso_639_1': 'en'...  Released   \n",
       "3                                                 []  Released   \n",
       "4  [{'english_name': 'English', 'iso_639_1': 'en'...  Released   \n",
       "\n",
       "                                             tagline  \\\n",
       "0                                                NaN   \n",
       "1                                                NaN   \n",
       "2                        Sleepwalking can be deadly.   \n",
       "3                                                NaN   \n",
       "4  Sometimes the boy next door is more than the b...   \n",
       "\n",
       "                                    title  video  vote_average vote_count  \\\n",
       "0                                     NaN    NaN           NaN        NaN   \n",
       "1  Quantum Quest: A Cassini Space Odyssey    0.0         7.900        8.0   \n",
       "2                             In My Sleep    0.0         5.318       33.0   \n",
       "3                      This Wretched Life    0.0         5.000        1.0   \n",
       "4                        Anderson's Cross    0.0         4.000        5.0   \n",
       "\n",
       "  certification  \n",
       "0           NaN  \n",
       "1           NaN  \n",
       "2         PG-13  \n",
       "3           NaN  \n",
       "4           NaN  \n",
       "\n",
       "[5 rows x 26 columns]"
      ]
     },
     "execution_count": 4,
     "metadata": {},
     "output_type": "execute_result"
    }
   ],
   "source": [
    "df = pd.read_csv(f'{data_folder}{combined_output_file}.csv.gz')\n",
    "df.head()"
   ]
  },
  {
   "cell_type": "code",
   "execution_count": 5,
   "id": "35ed8790-3a3f-4b25-ab48-df6acaf43e81",
   "metadata": {},
   "outputs": [
    {
     "data": {
      "text/plain": [
       "Index(['imdb_id', 'adult', 'backdrop_path', 'belongs_to_collection', 'budget',\n",
       "       'genres', 'homepage', 'id', 'original_language', 'original_title',\n",
       "       'overview', 'popularity', 'poster_path', 'production_companies',\n",
       "       'production_countries', 'release_date', 'revenue', 'runtime',\n",
       "       'spoken_languages', 'status', 'tagline', 'title', 'video',\n",
       "       'vote_average', 'vote_count', 'certification'],\n",
       "      dtype='object')"
      ]
     },
     "execution_count": 5,
     "metadata": {},
     "output_type": "execute_result"
    }
   ],
   "source": [
    "df.columns"
   ]
  },
  {
   "cell_type": "code",
   "execution_count": 6,
   "id": "d35f5b7a-8168-4636-ac3a-7b483fadac79",
   "metadata": {},
   "outputs": [
    {
     "data": {
      "text/plain": [
       "(8474, 26)"
      ]
     },
     "execution_count": 6,
     "metadata": {},
     "output_type": "execute_result"
    }
   ],
   "source": [
    "# Only include rows with valid financial information\n",
    "df = df[((df.budget > 0) | (df.revenue > 0))]\n",
    "df.shape"
   ]
  },
  {
   "cell_type": "code",
   "execution_count": 7,
   "id": "e08f6e4d-d2e5-474e-b003-5451cd9575ec",
   "metadata": {},
   "outputs": [
    {
     "data": {
      "text/plain": [
       "4        MISSING\n",
       "5             PG\n",
       "6        MISSING\n",
       "7              R\n",
       "10         PG-13\n",
       "          ...   \n",
       "38529    MISSING\n",
       "38531    MISSING\n",
       "38536    MISSING\n",
       "38552    MISSING\n",
       "38567    MISSING\n",
       "Name: certification, Length: 8474, dtype: object"
      ]
     },
     "execution_count": 7,
     "metadata": {},
     "output_type": "execute_result"
    }
   ],
   "source": [
    "df['certification'].replace(np.nan, 'MISSING')"
   ]
  },
  {
   "cell_type": "markdown",
   "id": "ff533c26-4581-49e7-8b5b-0b4dd3fa2e6c",
   "metadata": {},
   "source": [
    "### How many movies per certification category"
   ]
  },
  {
   "cell_type": "code",
   "execution_count": 8,
   "id": "6bbadd5d-34cc-4e02-8c25-e3262452d853",
   "metadata": {},
   "outputs": [
    {
     "data": {
      "text/plain": [
       "certification\n",
       "R          1707\n",
       "PG-13      1054\n",
       "NR          684\n",
       "PG          441\n",
       "G            84\n",
       "NC-17        18\n",
       "Unrated       1\n",
       "dtype: int64"
      ]
     },
     "execution_count": 8,
     "metadata": {},
     "output_type": "execute_result"
    }
   ],
   "source": [
    "df.value_counts('certification')"
   ]
  },
  {
   "cell_type": "code",
   "execution_count": 9,
   "id": "d9096e8b-9f9b-4a00-94e8-10b04e13f772",
   "metadata": {},
   "outputs": [
    {
     "data": {
      "image/png": "[encoded data removed]",
      "text/plain": [
       "<Figure size 640x480 with 1 Axes>"
      ]
     },
     "metadata": {},
     "output_type": "display_data"
    }
   ],
   "source": [
    "sns.countplot(data=df, x='certification');"
   ]
  },
  {
   "cell_type": "markdown",
   "id": "4ad41587-eb90-4570-8a0d-1e13bba89e2a",
   "metadata": {},
   "source": [
    "### Average revenue per certification category"
   ]
  },
  {
   "cell_type": "code",
   "execution_count": 10,
   "id": "9884f546-7e2a-4703-83ee-39e236689a9f",
   "metadata": {},
   "outputs": [
    {
     "data": {
      "text/plain": [
       "certification\n",
       "G        1.125704e+08\n",
       "NC-17    2.710162e+06\n",
       "NR       2.079983e+07\n",
       "PG       1.793771e+08\n",
       "PG-13    1.600900e+08\n",
       "R        4.500945e+07\n",
       "Name: revenue, dtype: float64"
      ]
     },
     "execution_count": 10,
     "metadata": {},
     "output_type": "execute_result"
    }
   ],
   "source": [
    "df[df.revenue > 0].groupby('certification')['revenue'].mean()"
   ]
  },
  {
   "cell_type": "code",
   "execution_count": 11,
   "id": "fc585f8a-507f-43d4-ad71-429fb84cc2ea",
   "metadata": {},
   "outputs": [
    {
     "data": {
      "image/png": "[encoded data removed]",
      "text/plain": [
       "<Figure size 640x480 with 1 Axes>"
      ]
     },
     "metadata": {},
     "output_type": "display_data"
    }
   ],
   "source": [
    "sns.barplot(data=df[df.revenue > 0], x='certification', y='revenue', errorbar=None);"
   ]
  },
  {
   "cell_type": "markdown",
   "id": "86f9e050-fc56-4013-b1ef-522e6308a77a",
   "metadata": {},
   "source": [
    "### Average budget per certification category"
   ]
  },
  {
   "cell_type": "code",
   "execution_count": 12,
   "id": "95788a32-412a-4cc9-bd5a-4cee17d92b7c",
   "metadata": {},
   "outputs": [
    {
     "data": {
      "image/png": "[encoded data removed]",
      "text/plain": [
       "<Figure size 640x480 with 1 Axes>"
      ]
     },
     "metadata": {},
     "output_type": "display_data"
    }
   ],
   "source": [
    "sns.barplot(data=df[df.budget > 0], x='certification', y='budget', errorbar=None);"
   ]
  },
  {
   "cell_type": "code",
   "execution_count": 13,
   "id": "fc3573cc-425f-490d-ae41-efe929f4dbe5",
   "metadata": {},
   "outputs": [
    {
     "data": {
      "text/plain": [
       "certification\n",
       "G          3.826416e+07\n",
       "NC-17      2.618200e+06\n",
       "NR         2.699555e+06\n",
       "PG         5.057358e+07\n",
       "PG-13      4.894554e+07\n",
       "R          1.751906e+07\n",
       "Unrated    2.600000e+02\n",
       "Name: budget, dtype: float64"
      ]
     },
     "execution_count": 13,
     "metadata": {},
     "output_type": "execute_result"
    }
   ],
   "source": [
    "df[df.budget > 0].groupby('certification')['budget'].mean()"
   ]
  }
 ],
 "metadata": {
  "kernelspec": {
   "display_name": "Python 3 (ipykernel)",
   "language": "python",
   "name": "python3"
  },
  "language_info": {
   "codemirror_mode": {
    "name": "ipython",
    "version": 3
   },
   "file_extension": ".py",
   "mimetype": "text/x-python",
   "name": "python",
   "nbconvert_exporter": "python",
   "pygments_lexer": "ipython3",
   "version": "3.10.10"
  },
  "widgets": {
   "application/vnd.jupyter.widget-state+json": {
    "state": {},
    "version_major": 2,
    "version_minor": 0
   }
  }
 },
 "nbformat": 4,
 "nbformat_minor": 5
}
