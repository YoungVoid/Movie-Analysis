{
 "cells": [
  {
   "cell_type": "markdown",
   "id": "d4cc254d-bf4e-43d9-b0cb-76c7335ad84b",
   "metadata": {},
   "source": [
    "# Get Financial Data\n",
    "Author: Nian"
   ]
  },
  {
   "cell_type": "code",
   "execution_count": 1,
   "id": "821c56bb-3ab5-4491-a450-49c1a613675d",
   "metadata": {},
   "outputs": [],
   "source": [
    "import pandas as pd\n",
    "import tmdbsimple as tmdb\n",
    "import os, time, json\n",
    "from tqdm.notebook import tqdm_notebook"
   ]
  },
  {
   "cell_type": "code",
   "execution_count": 2,
   "id": "c9af0684-87e2-475f-86ef-f876791ef1b2",
   "metadata": {},
   "outputs": [],
   "source": [
    "# Key Variables\n",
    "tmdb_api_secret = 'C:/Users/nianv/.secret/tmdb_api.json'\n",
    "data_folder = 'Data/'\n",
    "years_to_get = [year for year in range(2010, 2020)]\n",
    "api_call_delay = 0.02"
   ]
  },
  {
   "cell_type": "code",
   "execution_count": 3,
   "id": "22c67d23-b99d-42bb-98ea-d61f62bb158a",
   "metadata": {},
   "outputs": [],
   "source": [
    "with open(tmdb_api_secret, 'r') as f:\n",
    "    login = json.load(f)\n",
    "tmdb.API_KEY = login['api-key']"
   ]
  },
  {
   "cell_type": "markdown",
   "id": "3a67b796-1f4d-4f0e-9f8c-f989c0590665",
   "metadata": {},
   "source": [
    "Below functions get_movie (originally get_movie_with_rating) and write_json came from Coding Dojo, adapted as neccessary"
   ]
  },
  {
   "cell_type": "code",
   "execution_count": 4,
   "id": "b1c99383-0941-4d2b-b0c8-2bd3f754ec39",
   "metadata": {},
   "outputs": [],
   "source": [
    "def get_movie(movie_id):\n",
    "    \"\"\"Adapted from sources https://github.com/celiao/tmdbsimple\"\"\"\n",
    "    # Get the movie object for the current id\n",
    "    movie = tmdb.Movies(movie_id)\n",
    "    \n",
    "    #save the .info .releases dictionaries\n",
    "    info = movie.info()\n",
    "    releases = movie.releases()\n",
    "\n",
    "    # Loop through countries in releases\n",
    "    for c in releases['countries']:\n",
    "        # if the country abbreviation == US\n",
    "        if c['iso_3166_1'] == 'US':\n",
    "            ## save a \"certification\" key in info with the certification\n",
    "            info['certification'] = c['certification']\n",
    "            break\n",
    "\n",
    "    return info"
   ]
  },
  {
   "cell_type": "code",
   "execution_count": 5,
   "id": "5941a94c-e7c1-4bfa-a5b0-42e16ca731f6",
   "metadata": {},
   "outputs": [],
   "source": [
    "def write_json(new_data, filename): \n",
    "    \"\"\"Appends a list of records (new_data) to a json file (filename). \n",
    "    Adapted from: https://www.geeksforgeeks.org/append-to-json-file-using-python/\"\"\"  \n",
    "    \n",
    "    with open(filename,'r+') as file:\n",
    "        # First we load existing data into a dict.\n",
    "        file_data = json.load(file)\n",
    "        ## Choose extend or append\n",
    "        if (type(new_data) == list) & (type(file_data) == list):\n",
    "            file_data.extend(new_data)\n",
    "        else:\n",
    "             file_data.append(new_data)\n",
    "        # Sets file's current position at offset.\n",
    "        file.seek(0)\n",
    "        # convert back to json.\n",
    "        json.dump(file_data, file)"
   ]
  },
  {
   "cell_type": "code",
   "execution_count": 6,
   "id": "ce161e7b-8626-4e91-b3b8-27ce191188b8",
   "metadata": {},
   "outputs": [
    {
     "name": "stdout",
     "output_type": "stream",
     "text": [
      "Results Successfully Retrieved: 3\n",
      "Results Failed to Retrieve: 1\n",
      "CPU times: total: 141 ms\n",
      "Wall time: 2.68 s\n"
     ]
    }
   ],
   "source": [
    "%%time\n",
    "test_ids = [\"tt0848228\", \"tt0115937\",\"tt0848228\",\"tt0332280\"]\n",
    "results = []\n",
    "errors = []\n",
    "for movie_id in test_ids:\n",
    "    try:\n",
    "        movie_info = get_movie(movie_id)\n",
    "        results.append(movie_info)\n",
    "        \n",
    "    except Exception as e:\n",
    "        errors.append((movie_id, e))\n",
    "\n",
    "pd.DataFrame(results)\n",
    "pd.DataFrame(errors)\n",
    "\n",
    "print(f'Results Successfully Retrieved: {len(results)}')\n",
    "print(f'Results Failed to Retrieve: {len(errors)}')"
   ]
  },
  {
   "cell_type": "code",
   "execution_count": 7,
   "id": "76e48e82-3baa-4df0-b382-05c2e3e86a0c",
   "metadata": {},
   "outputs": [
    {
     "data": {
      "text/plain": [
       "['Errors',\n",
       " 'final_tmdb_data_2000.csv.gz',\n",
       " 'final_tmdb_data_2001.csv.gz',\n",
       " 'title_akas.csv.gz',\n",
       " 'title_basics.csv.gz',\n",
       " 'title_ratings.csv.gz',\n",
       " 'tmdb_api_results_2000.json',\n",
       " 'tmdb_api_results_2001.json',\n",
       " 'tmdb_results_combined.csv.gz']"
      ]
     },
     "execution_count": 7,
     "metadata": {},
     "output_type": "execute_result"
    }
   ],
   "source": [
    "# Setup Data Folder\n",
    "os.makedirs(data_folder, exist_ok=True)\n",
    "os.makedirs(f'{data_folder}Errors/', exist_ok=True)\n",
    "os.listdir(data_folder)"
   ]
  },
  {
   "cell_type": "code",
   "execution_count": 8,
   "id": "9736f87a-7f90-45c2-9dff-34b0a8342925",
   "metadata": {},
   "outputs": [],
   "source": [
    "basics = pd.read_csv(f'{data_folder}title_basics.csv.gz')"
   ]
  },
  {
   "cell_type": "code",
   "execution_count": 9,
   "id": "5c436dda-882d-4c9a-9324-1d0de5cbbd4f",
   "metadata": {},
   "outputs": [
    {
     "data": {
      "application/vnd.jupyter.widget-view+json": {
       "model_id": "c1dd5e9d20f44d6aaee228053294bdf2",
       "version_major": 2,
       "version_minor": 0
      },
      "text/plain": [
       "YEARS:   0%|          | 0/10 [00:00<?, ?it/s]"
      ]
     },
     "metadata": {},
     "output_type": "display_data"
    },
    {
     "data": {
      "application/vnd.jupyter.widget-view+json": {
       "model_id": "ca2c4c467e584dc183258cc4f2e33bd2",
       "version_major": 2,
       "version_minor": 0
      },
      "text/plain": [
       "Movies from 2010:   0%|          | 0/3873 [00:00<?, ?it/s]"
      ]
     },
     "metadata": {},
     "output_type": "display_data"
    },
    {
     "name": "stdout",
     "output_type": "stream",
     "text": [
      "Results Successfully Retrieved: 2747\n",
      "Results Failed to Retrieve: 1128\n"
     ]
    },
    {
     "data": {
      "application/vnd.jupyter.widget-view+json": {
       "model_id": "294210a1d4b64f0999be269e8929f0e5",
       "version_major": 2,
       "version_minor": 0
      },
      "text/plain": [
       "Movies from 2011:   0%|          | 0/4235 [00:00<?, ?it/s]"
      ]
     },
     "metadata": {},
     "output_type": "display_data"
    },
    {
     "name": "stdout",
     "output_type": "stream",
     "text": [
      "Results Successfully Retrieved: 3042\n",
      "Results Failed to Retrieve: 2322\n"
     ]
    },
    {
     "data": {
      "application/vnd.jupyter.widget-view+json": {
       "model_id": "af702ba486704e6993da05307eb8eaa8",
       "version_major": 2,
       "version_minor": 0
      },
      "text/plain": [
       "Movies from 2012:   0%|          | 0/4525 [00:00<?, ?it/s]"
      ]
     },
     "metadata": {},
     "output_type": "display_data"
    },
    {
     "name": "stdout",
     "output_type": "stream",
     "text": [
      "Results Successfully Retrieved: 3335\n",
      "Results Failed to Retrieve: 3513\n"
     ]
    },
    {
     "data": {
      "application/vnd.jupyter.widget-view+json": {
       "model_id": "33c50598a57549d58ff6d4fd5ed82026",
       "version_major": 2,
       "version_minor": 0
      },
      "text/plain": [
       "Movies from 2013:   0%|          | 0/4727 [00:00<?, ?it/s]"
      ]
     },
     "metadata": {},
     "output_type": "display_data"
    },
    {
     "name": "stdout",
     "output_type": "stream",
     "text": [
      "Results Successfully Retrieved: 3582\n",
      "Results Failed to Retrieve: 4659\n"
     ]
    },
    {
     "data": {
      "application/vnd.jupyter.widget-view+json": {
       "model_id": "77238b6eabd64039a564d145aa192141",
       "version_major": 2,
       "version_minor": 0
      },
      "text/plain": [
       "Movies from 2014:   0%|          | 0/4906 [00:00<?, ?it/s]"
      ]
     },
     "metadata": {},
     "output_type": "display_data"
    },
    {
     "name": "stdout",
     "output_type": "stream",
     "text": [
      "Results Successfully Retrieved: 3772\n",
      "Results Failed to Retrieve: 5794\n"
     ]
    },
    {
     "data": {
      "application/vnd.jupyter.widget-view+json": {
       "model_id": "4c71f2ba9a7d4109aa799ffebce667f4",
       "version_major": 2,
       "version_minor": 0
      },
      "text/plain": [
       "Movies from 2015:   0%|          | 0/5059 [00:00<?, ?it/s]"
      ]
     },
     "metadata": {},
     "output_type": "display_data"
    },
    {
     "name": "stdout",
     "output_type": "stream",
     "text": [
      "Results Successfully Retrieved: 3872\n",
      "Results Failed to Retrieve: 6982\n"
     ]
    },
    {
     "data": {
      "application/vnd.jupyter.widget-view+json": {
       "model_id": "d31750c09a684506ae422b4388fef1ba",
       "version_major": 2,
       "version_minor": 0
      },
      "text/plain": [
       "Movies from 2016:   0%|          | 0/5255 [00:00<?, ?it/s]"
      ]
     },
     "metadata": {},
     "output_type": "display_data"
    },
    {
     "name": "stdout",
     "output_type": "stream",
     "text": [
      "Results Successfully Retrieved: 4096\n",
      "Results Failed to Retrieve: 8142\n"
     ]
    },
    {
     "data": {
      "application/vnd.jupyter.widget-view+json": {
       "model_id": "ba6375e5ff0c458b98afac153ac71cbd",
       "version_major": 2,
       "version_minor": 0
      },
      "text/plain": [
       "Movies from 2017:   0%|          | 0/5648 [00:00<?, ?it/s]"
      ]
     },
     "metadata": {},
     "output_type": "display_data"
    },
    {
     "name": "stdout",
     "output_type": "stream",
     "text": [
      "Results Successfully Retrieved: 4481\n",
      "Results Failed to Retrieve: 9310\n"
     ]
    },
    {
     "data": {
      "application/vnd.jupyter.widget-view+json": {
       "model_id": "03e60a126fcb4fd498e07e31e07b0f0c",
       "version_major": 2,
       "version_minor": 0
      },
      "text/plain": [
       "Movies from 2018:   0%|          | 0/5803 [00:00<?, ?it/s]"
      ]
     },
     "metadata": {},
     "output_type": "display_data"
    },
    {
     "name": "stdout",
     "output_type": "stream",
     "text": [
      "Results Successfully Retrieved: 4717\n",
      "Results Failed to Retrieve: 10397\n"
     ]
    },
    {
     "data": {
      "application/vnd.jupyter.widget-view+json": {
       "model_id": "b81ecc21dc7247a0a31cb939e858d3f3",
       "version_major": 2,
       "version_minor": 0
      },
      "text/plain": [
       "Movies from 2019:   0%|          | 0/5890 [00:00<?, ?it/s]"
      ]
     },
     "metadata": {},
     "output_type": "display_data"
    },
    {
     "name": "stdout",
     "output_type": "stream",
     "text": [
      "Results Successfully Retrieved: 4934\n",
      "Results Failed to Retrieve: 11354\n"
     ]
    }
   ],
   "source": [
    "for year in tqdm_notebook(years_to_get, desc='YEARS', position=0):\n",
    "    json_file = f'{data_folder}tmdb_api_results_{year}.json'\n",
    "    file_exists = os.path.isfile(json_file)\n",
    "    if not file_exists:\n",
    "        with open(json_file, 'w') as f:\n",
    "            json.dump([{'imdb_id':0}], f)\n",
    "            \n",
    "    df = basics.loc[basics['startYear']==year].copy()\n",
    "    movie_ids = df['tconst'].copy()\n",
    "    previous_df = pd.read_json(json_file)\n",
    "    movie_ids_to_get = movie_ids[~movie_ids.isin(previous_df['imdb_id'])]\n",
    "\n",
    "    for movie_id in tqdm_notebook(movie_ids_to_get,\n",
    "                                  desc=f'Movies from {year}',\n",
    "                                  position=1,\n",
    "                                  leave=True):\n",
    "        try:\n",
    "            write_json(get_movie(movie_id), json_file)\n",
    "            time.sleep(api_call_delay)\n",
    "\n",
    "        except Exception as e:\n",
    "            errors.append((movie_id, e))\n",
    "\n",
    "    results_df = pd.read_json(json_file)\n",
    "    results_df.to_csv(f'{data_folder}final_tmdb_data_{year}.csv.gz', compression='gzip', index=False)\n",
    "    errors_df = pd.DataFrame(errors)\n",
    "    errors_df.to_csv(f'{data_folder}Errors/final_tmdb_data_errors_{year}.csv.gz', compression='gzip', index=False)\n",
    "\n",
    "    print(f'Results Successfully Retrieved: {results_df.shape[0]}')\n",
    "    print(f'Results Failed to Retrieve: {errors_df.shape[0]}')\n",
    "    "
   ]
  }
 ],
 "metadata": {
  "kernelspec": {
   "display_name": "Python 3 (ipykernel)",
   "language": "python",
   "name": "python3"
  },
  "language_info": {
   "codemirror_mode": {
    "name": "ipython",
    "version": 3
   },
   "file_extension": ".py",
   "mimetype": "text/x-python",
   "name": "python",
   "nbconvert_exporter": "python",
   "pygments_lexer": "ipython3",
   "version": "3.10.10"
  },
  "widgets": {
   "application/vnd.jupyter.widget-state+json": {
    "state": {
     "01b2a7722fdf4982b5deb98c433a8a38": {
      "model_module": "@jupyter-widgets/controls",
      "model_module_version": "2.0.0",
      "model_name": "HTMLStyleModel",
      "state": {
       "description_width": "",
       "font_size": null,
       "text_color": null
      }
     },
     "037bdc97b00f46ce9b6fa841c98cb5a1": {
      "model_module": "@jupyter-widgets/base",
      "model_module_version": "2.0.0",
      "model_name": "LayoutModel",
      "state": {}
     },
     "03e60a126fcb4fd498e07e31e07b0f0c": {
      "model_module": "@jupyter-widgets/controls",
      "model_module_version": "2.0.0",
      "model_name": "HBoxModel",
      "state": {
       "children": [
        "IPY_MODEL_13d01d1fbe234bc1a01dcfc130622305",
        "IPY_MODEL_72cde5d615db4c449f10e8c90e6a1aca",
        "IPY_MODEL_9f92c520b73548d6a6d1c045ea5fe703"
       ],
       "layout": "IPY_MODEL_537532b78f504228912271c1f8c15cd0"
      }
     },
     "0420b802261944a5b3a01ac9935a0e78": {
      "model_module": "@jupyter-widgets/controls",
      "model_module_version": "2.0.0",
      "model_name": "ProgressStyleModel",
      "state": {
       "description_width": ""
      }
     },
     "08b3002ece964c50bd760bcbf9bdb01a": {
      "model_module": "@jupyter-widgets/controls",
      "model_module_version": "2.0.0",
      "model_name": "HTMLStyleModel",
      "state": {
       "description_width": "",
       "font_size": null,
       "text_color": null
      }
     },
     "0989af2d5e6f459aa96090833e11addf": {
      "model_module": "@jupyter-widgets/base",
      "model_module_version": "2.0.0",
      "model_name": "LayoutModel",
      "state": {}
     },
     "0a152d9e42c543d0a73b0d4d455398de": {
      "model_module": "@jupyter-widgets/base",
      "model_module_version": "2.0.0",
      "model_name": "LayoutModel",
      "state": {}
     },
     "0e75d19d4968471d92378df8f644ef97": {
      "model_module": "@jupyter-widgets/base",
      "model_module_version": "2.0.0",
      "model_name": "LayoutModel",
      "state": {}
     },
     "0ef4b1a196734d488b15c20e2370cff6": {
      "model_module": "@jupyter-widgets/base",
      "model_module_version": "2.0.0",
      "model_name": "LayoutModel",
      "state": {}
     },
     "13507ab5d9614c00b63a8705079c3312": {
      "model_module": "@jupyter-widgets/base",
      "model_module_version": "2.0.0",
      "model_name": "LayoutModel",
      "state": {}
     },
     "1385993ad8e34b939a1d4c08a671eaae": {
      "model_module": "@jupyter-widgets/base",
      "model_module_version": "2.0.0",
      "model_name": "LayoutModel",
      "state": {}
     },
     "13d01d1fbe234bc1a01dcfc130622305": {
      "model_module": "@jupyter-widgets/controls",
      "model_module_version": "2.0.0",
      "model_name": "HTMLModel",
      "state": {
       "layout": "IPY_MODEL_1385993ad8e34b939a1d4c08a671eaae",
       "style": "IPY_MODEL_1c11d242a7504ebb95b36549bb62325c",
       "value": "Movies from 2018: 100%"
      }
     },
     "15809a164ccf4e49b8b7d9ac7515d77b": {
      "model_module": "@jupyter-widgets/base",
      "model_module_version": "2.0.0",
      "model_name": "LayoutModel",
      "state": {}
     },
     "19d501cf7526464288bfe84a2235ea33": {
      "model_module": "@jupyter-widgets/base",
      "model_module_version": "2.0.0",
      "model_name": "LayoutModel",
      "state": {}
     },
     "1b6d715fe9e64c459c75b15bfc652166": {
      "model_module": "@jupyter-widgets/controls",
      "model_module_version": "2.0.0",
      "model_name": "HTMLModel",
      "state": {
       "layout": "IPY_MODEL_f21ed022dc6647a98a67ab58ccaaf87f",
       "style": "IPY_MODEL_2c31042a566c4d66b6b4b71828cc92a0",
       "value": " 3873/3873 [58:33&lt;00:00,  1.06it/s]"
      }
     },
     "1c11d242a7504ebb95b36549bb62325c": {
      "model_module": "@jupyter-widgets/controls",
      "model_module_version": "2.0.0",
      "model_name": "HTMLStyleModel",
      "state": {
       "description_width": "",
       "font_size": null,
       "text_color": null
      }
     },
     "1ddeaeb072324a9f88567daa44fbf2b3": {
      "model_module": "@jupyter-widgets/controls",
      "model_module_version": "2.0.0",
      "model_name": "HTMLStyleModel",
      "state": {
       "description_width": "",
       "font_size": null,
       "text_color": null
      }
     },
     "201cd68cf9324cb4a8f1a720f38fc71d": {
      "model_module": "@jupyter-widgets/controls",
      "model_module_version": "2.0.0",
      "model_name": "FloatProgressModel",
      "state": {
       "bar_style": "success",
       "layout": "IPY_MODEL_19d501cf7526464288bfe84a2235ea33",
       "max": 5059,
       "style": "IPY_MODEL_6d99eca9cb7e4c89a63e8108b61c3001",
       "value": 5059
      }
     },
     "225b27f0cab84e87990c063b5a4a5544": {
      "model_module": "@jupyter-widgets/controls",
      "model_module_version": "2.0.0",
      "model_name": "HTMLStyleModel",
      "state": {
       "description_width": "",
       "font_size": null,
       "text_color": null
      }
     },
     "26989734e64a4052bdd4304c763bffef": {
      "model_module": "@jupyter-widgets/controls",
      "model_module_version": "2.0.0",
      "model_name": "HTMLModel",
      "state": {
       "layout": "IPY_MODEL_0a152d9e42c543d0a73b0d4d455398de",
       "style": "IPY_MODEL_a10c9456a81e4c219c24674f590ba624",
       "value": " 5890/5890 [1:57:38&lt;00:00,  1.34s/it]"
      }
     },
     "271570588f464828b0cdbacf3e5e7fec": {
      "model_module": "@jupyter-widgets/base",
      "model_module_version": "2.0.0",
      "model_name": "LayoutModel",
      "state": {}
     },
     "27b18fd92ca04979a6490ed60ac8b6ab": {
      "model_module": "@jupyter-widgets/base",
      "model_module_version": "2.0.0",
      "model_name": "LayoutModel",
      "state": {}
     },
     "294210a1d4b64f0999be269e8929f0e5": {
      "model_module": "@jupyter-widgets/controls",
      "model_module_version": "2.0.0",
      "model_name": "HBoxModel",
      "state": {
       "children": [
        "IPY_MODEL_813c24778f774acea2db49c8c44bd115",
        "IPY_MODEL_86af70cadf1e4214b7fe2ee6d11a9892",
        "IPY_MODEL_632b5a0c5fb94f039315e059121d044a"
       ],
       "layout": "IPY_MODEL_bbc367a3b38c4634849db277a436e50c"
      }
     },
     "2b9552f876904c5585ac656715ea2068": {
      "model_module": "@jupyter-widgets/controls",
      "model_module_version": "2.0.0",
      "model_name": "HTMLStyleModel",
      "state": {
       "description_width": "",
       "font_size": null,
       "text_color": null
      }
     },
     "2c31042a566c4d66b6b4b71828cc92a0": {
      "model_module": "@jupyter-widgets/controls",
      "model_module_version": "2.0.0",
      "model_name": "HTMLStyleModel",
      "state": {
       "description_width": "",
       "font_size": null,
       "text_color": null
      }
     },
     "2d61a74e0ef6410d94cc5b8c4bdfa3ff": {
      "model_module": "@jupyter-widgets/controls",
      "model_module_version": "2.0.0",
      "model_name": "FloatProgressModel",
      "state": {
       "bar_style": "success",
       "layout": "IPY_MODEL_0ef4b1a196734d488b15c20e2370cff6",
       "max": 3873,
       "style": "IPY_MODEL_ae1d84b18ac44238ac0d663d5fa1b3a2",
       "value": 3873
      }
     },
     "33c50598a57549d58ff6d4fd5ed82026": {
      "model_module": "@jupyter-widgets/controls",
      "model_module_version": "2.0.0",
      "model_name": "HBoxModel",
      "state": {
       "children": [
        "IPY_MODEL_9a2710716c144353a9286b63379ebb54",
        "IPY_MODEL_e7655de80e8a4787b6246d3af4616591",
        "IPY_MODEL_a9f376b7702d4377866a31945c5a4407"
       ],
       "layout": "IPY_MODEL_446fbb5d898544aebebabacc451ba657"
      }
     },
     "3765e6d6b5cf46659ff71da4f2652855": {
      "model_module": "@jupyter-widgets/base",
      "model_module_version": "2.0.0",
      "model_name": "LayoutModel",
      "state": {}
     },
     "38f31bfe27b84291ac7f0ccdb4984664": {
      "model_module": "@jupyter-widgets/base",
      "model_module_version": "2.0.0",
      "model_name": "LayoutModel",
      "state": {}
     },
     "38fab790a5004146a467db480b012171": {
      "model_module": "@jupyter-widgets/controls",
      "model_module_version": "2.0.0",
      "model_name": "FloatProgressModel",
      "state": {
       "bar_style": "success",
       "layout": "IPY_MODEL_27b18fd92ca04979a6490ed60ac8b6ab",
       "max": 5890,
       "style": "IPY_MODEL_0420b802261944a5b3a01ac9935a0e78",
       "value": 5890
      }
     },
     "3a720e0f801042079d4f548eb1ea689a": {
      "model_module": "@jupyter-widgets/controls",
      "model_module_version": "2.0.0",
      "model_name": "ProgressStyleModel",
      "state": {
       "description_width": ""
      }
     },
     "3b652c0edb9d4d80884033db07fde538": {
      "model_module": "@jupyter-widgets/controls",
      "model_module_version": "2.0.0",
      "model_name": "HTMLStyleModel",
      "state": {
       "description_width": "",
       "font_size": null,
       "text_color": null
      }
     },
     "3dead118b4ac4cc092d162fd570c1107": {
      "model_module": "@jupyter-widgets/controls",
      "model_module_version": "2.0.0",
      "model_name": "HTMLModel",
      "state": {
       "layout": "IPY_MODEL_702a410ab3dc4167ace96b7caa9e5ffb",
       "style": "IPY_MODEL_2b9552f876904c5585ac656715ea2068",
       "value": "Movies from 2010: 100%"
      }
     },
     "3e6085006f4d4ecf93b0f98dd6bfdfd2": {
      "model_module": "@jupyter-widgets/controls",
      "model_module_version": "2.0.0",
      "model_name": "HTMLStyleModel",
      "state": {
       "description_width": "",
       "font_size": null,
       "text_color": null
      }
     },
     "446fbb5d898544aebebabacc451ba657": {
      "model_module": "@jupyter-widgets/base",
      "model_module_version": "2.0.0",
      "model_name": "LayoutModel",
      "state": {}
     },
     "48c07d2e3b4c4c7b895a3d1d2d1d241d": {
      "model_module": "@jupyter-widgets/base",
      "model_module_version": "2.0.0",
      "model_name": "LayoutModel",
      "state": {}
     },
     "4c71f2ba9a7d4109aa799ffebce667f4": {
      "model_module": "@jupyter-widgets/controls",
      "model_module_version": "2.0.0",
      "model_name": "HBoxModel",
      "state": {
       "children": [
        "IPY_MODEL_af4efc128f684b0ba9be1ef40850f84e",
        "IPY_MODEL_201cd68cf9324cb4a8f1a720f38fc71d",
        "IPY_MODEL_b93a441fc505412295ccf07389404a52"
       ],
       "layout": "IPY_MODEL_cb6f5071c1e64d7cb561ac57f789f844"
      }
     },
     "537532b78f504228912271c1f8c15cd0": {
      "model_module": "@jupyter-widgets/base",
      "model_module_version": "2.0.0",
      "model_name": "LayoutModel",
      "state": {}
     },
     "56e3b944edea47688448b9fae186338b": {
      "model_module": "@jupyter-widgets/controls",
      "model_module_version": "2.0.0",
      "model_name": "HTMLStyleModel",
      "state": {
       "description_width": "",
       "font_size": null,
       "text_color": null
      }
     },
     "56e4bf4e4b594de298b78f1ba71e9981": {
      "model_module": "@jupyter-widgets/base",
      "model_module_version": "2.0.0",
      "model_name": "LayoutModel",
      "state": {}
     },
     "5cfae9bab1d242908dcd22e3f59b70d4": {
      "model_module": "@jupyter-widgets/base",
      "model_module_version": "2.0.0",
      "model_name": "LayoutModel",
      "state": {}
     },
     "5dcb25c5ff7749c58d0138ba88b87a53": {
      "model_module": "@jupyter-widgets/controls",
      "model_module_version": "2.0.0",
      "model_name": "FloatProgressModel",
      "state": {
       "bar_style": "success",
       "layout": "IPY_MODEL_e59a1b9ccba64c67bab8bdf6397c19ba",
       "max": 5648,
       "style": "IPY_MODEL_ba2a121ffcb14bef95e5c33018addefe",
       "value": 5648
      }
     },
     "62e12735b2bd499bbea2869efd496fc1": {
      "model_module": "@jupyter-widgets/base",
      "model_module_version": "2.0.0",
      "model_name": "LayoutModel",
      "state": {}
     },
     "632b5a0c5fb94f039315e059121d044a": {
      "model_module": "@jupyter-widgets/controls",
      "model_module_version": "2.0.0",
      "model_name": "HTMLModel",
      "state": {
       "layout": "IPY_MODEL_f7dd17fc74ce43a5a212ac839d2a9839",
       "style": "IPY_MODEL_3e6085006f4d4ecf93b0f98dd6bfdfd2",
       "value": " 4235/4235 [1:05:21&lt;00:00,  1.40it/s]"
      }
     },
     "651314d94ac340488055e7091f0263a9": {
      "model_module": "@jupyter-widgets/controls",
      "model_module_version": "2.0.0",
      "model_name": "ProgressStyleModel",
      "state": {
       "description_width": ""
      }
     },
     "65187f7406d44ea99c4e8a0fd6f14902": {
      "model_module": "@jupyter-widgets/controls",
      "model_module_version": "2.0.0",
      "model_name": "FloatProgressModel",
      "state": {
       "bar_style": "success",
       "layout": "IPY_MODEL_f4b826c9444840d78af78df21b43533f",
       "max": 10,
       "style": "IPY_MODEL_f5b5a72ff2124503810e7a30ec2f8a4b",
       "value": 10
      }
     },
     "65c201cbad194e2194bcc8b7363ef41f": {
      "model_module": "@jupyter-widgets/controls",
      "model_module_version": "2.0.0",
      "model_name": "ProgressStyleModel",
      "state": {
       "description_width": ""
      }
     },
     "6a013e2a6d2e4efb9957205eece3266b": {
      "model_module": "@jupyter-widgets/controls",
      "model_module_version": "2.0.0",
      "model_name": "HTMLStyleModel",
      "state": {
       "description_width": "",
       "font_size": null,
       "text_color": null
      }
     },
     "6d99eca9cb7e4c89a63e8108b61c3001": {
      "model_module": "@jupyter-widgets/controls",
      "model_module_version": "2.0.0",
      "model_name": "ProgressStyleModel",
      "state": {
       "description_width": ""
      }
     },
     "6fa4ac6ad44e46e0833595763b61d690": {
      "model_module": "@jupyter-widgets/controls",
      "model_module_version": "2.0.0",
      "model_name": "HTMLStyleModel",
      "state": {
       "description_width": "",
       "font_size": null,
       "text_color": null
      }
     },
     "702a410ab3dc4167ace96b7caa9e5ffb": {
      "model_module": "@jupyter-widgets/base",
      "model_module_version": "2.0.0",
      "model_name": "LayoutModel",
      "state": {}
     },
     "72cde5d615db4c449f10e8c90e6a1aca": {
      "model_module": "@jupyter-widgets/controls",
      "model_module_version": "2.0.0",
      "model_name": "FloatProgressModel",
      "state": {
       "bar_style": "success",
       "layout": "IPY_MODEL_271570588f464828b0cdbacf3e5e7fec",
       "max": 5803,
       "style": "IPY_MODEL_65c201cbad194e2194bcc8b7363ef41f",
       "value": 5803
      }
     },
     "7514ed1e32e0442ea404db3889719cb3": {
      "model_module": "@jupyter-widgets/base",
      "model_module_version": "2.0.0",
      "model_name": "LayoutModel",
      "state": {}
     },
     "77238b6eabd64039a564d145aa192141": {
      "model_module": "@jupyter-widgets/controls",
      "model_module_version": "2.0.0",
      "model_name": "HBoxModel",
      "state": {
       "children": [
        "IPY_MODEL_c9396766c14e4c55927261d695f8b1b1",
        "IPY_MODEL_c347483b17264c5791854a05df6b8f9f",
        "IPY_MODEL_c0c56baefe4046d880c163aa6cc5a894"
       ],
       "layout": "IPY_MODEL_cb4b9fb7030c41be89ded266c37b3e6d"
      }
     },
     "813c24778f774acea2db49c8c44bd115": {
      "model_module": "@jupyter-widgets/controls",
      "model_module_version": "2.0.0",
      "model_name": "HTMLModel",
      "state": {
       "layout": "IPY_MODEL_7514ed1e32e0442ea404db3889719cb3",
       "style": "IPY_MODEL_b6ee5894369f4bec9a88a51156cfa2d1",
       "value": "Movies from 2011: 100%"
      }
     },
     "82aa8c60ad0b4321883eb699299a6db5": {
      "model_module": "@jupyter-widgets/base",
      "model_module_version": "2.0.0",
      "model_name": "LayoutModel",
      "state": {}
     },
     "82e75305714b4cde96e75873b59e4aff": {
      "model_module": "@jupyter-widgets/controls",
      "model_module_version": "2.0.0",
      "model_name": "FloatProgressModel",
      "state": {
       "bar_style": "success",
       "layout": "IPY_MODEL_c8cc357862344df0b304a49515805fe0",
       "max": 5255,
       "style": "IPY_MODEL_923353a79fa043d188a6e758d9fd36d3",
       "value": 5255
      }
     },
     "86af70cadf1e4214b7fe2ee6d11a9892": {
      "model_module": "@jupyter-widgets/controls",
      "model_module_version": "2.0.0",
      "model_name": "FloatProgressModel",
      "state": {
       "bar_style": "success",
       "layout": "IPY_MODEL_dd2a1bfdd65d4118a6ae4c75d89ed8b9",
       "max": 4235,
       "style": "IPY_MODEL_9cc192982fa641e681feaf26ca833699",
       "value": 4235
      }
     },
     "8ac4bc2908624153a4fc195522678eff": {
      "model_module": "@jupyter-widgets/controls",
      "model_module_version": "2.0.0",
      "model_name": "HTMLStyleModel",
      "state": {
       "description_width": "",
       "font_size": null,
       "text_color": null
      }
     },
     "8e99e5f5b64f4c238425d7dcf598dba8": {
      "model_module": "@jupyter-widgets/controls",
      "model_module_version": "2.0.0",
      "model_name": "HTMLModel",
      "state": {
       "layout": "IPY_MODEL_dad805347bc24a66aa7fabdac2642324",
       "style": "IPY_MODEL_cf820de1eab043a1baee0e69c0e424c6",
       "value": "YEARS: 100%"
      }
     },
     "90c9b75cb1fd4661a436262cdb1d0a1e": {
      "model_module": "@jupyter-widgets/base",
      "model_module_version": "2.0.0",
      "model_name": "LayoutModel",
      "state": {}
     },
     "923353a79fa043d188a6e758d9fd36d3": {
      "model_module": "@jupyter-widgets/controls",
      "model_module_version": "2.0.0",
      "model_name": "ProgressStyleModel",
      "state": {
       "description_width": ""
      }
     },
     "9a2710716c144353a9286b63379ebb54": {
      "model_module": "@jupyter-widgets/controls",
      "model_module_version": "2.0.0",
      "model_name": "HTMLModel",
      "state": {
       "layout": "IPY_MODEL_b940bd1d6bb9421d8b2849f929d20a40",
       "style": "IPY_MODEL_6a013e2a6d2e4efb9957205eece3266b",
       "value": "Movies from 2013: 100%"
      }
     },
     "9cc192982fa641e681feaf26ca833699": {
      "model_module": "@jupyter-widgets/controls",
      "model_module_version": "2.0.0",
      "model_name": "ProgressStyleModel",
      "state": {
       "description_width": ""
      }
     },
     "9f92c520b73548d6a6d1c045ea5fe703": {
      "model_module": "@jupyter-widgets/controls",
      "model_module_version": "2.0.0",
      "model_name": "HTMLModel",
      "state": {
       "layout": "IPY_MODEL_15809a164ccf4e49b8b7d9ac7515d77b",
       "style": "IPY_MODEL_e459c396b9594238bf316ee8da376b97",
       "value": " 5803/5803 [1:53:53&lt;00:00,  1.03it/s]"
      }
     },
     "9fe1bd95c1ba46539f932c0ce95ab7e9": {
      "model_module": "@jupyter-widgets/base",
      "model_module_version": "2.0.0",
      "model_name": "LayoutModel",
      "state": {}
     },
     "a10c9456a81e4c219c24674f590ba624": {
      "model_module": "@jupyter-widgets/controls",
      "model_module_version": "2.0.0",
      "model_name": "HTMLStyleModel",
      "state": {
       "description_width": "",
       "font_size": null,
       "text_color": null
      }
     },
     "a1fed426dcfb43909b17ea69ce391eee": {
      "model_module": "@jupyter-widgets/controls",
      "model_module_version": "2.0.0",
      "model_name": "HTMLModel",
      "state": {
       "layout": "IPY_MODEL_037bdc97b00f46ce9b6fa841c98cb5a1",
       "style": "IPY_MODEL_6fa4ac6ad44e46e0833595763b61d690",
       "value": " 10/10 [15:02:42&lt;00:00, 6331.56s/it]"
      }
     },
     "a55340d60f324f25824ef2bb07e67520": {
      "model_module": "@jupyter-widgets/base",
      "model_module_version": "2.0.0",
      "model_name": "LayoutModel",
      "state": {}
     },
     "a9f376b7702d4377866a31945c5a4407": {
      "model_module": "@jupyter-widgets/controls",
      "model_module_version": "2.0.0",
      "model_name": "HTMLModel",
      "state": {
       "layout": "IPY_MODEL_5cfae9bab1d242908dcd22e3f59b70d4",
       "style": "IPY_MODEL_f37b22b5b9004a7298807c5f752af06d",
       "value": " 4727/4727 [1:20:04&lt;00:00,  1.10s/it]"
      }
     },
     "aa3e2e431dcb4c32a41eecff0865df10": {
      "model_module": "@jupyter-widgets/controls",
      "model_module_version": "2.0.0",
      "model_name": "HTMLModel",
      "state": {
       "layout": "IPY_MODEL_0e75d19d4968471d92378df8f644ef97",
       "style": "IPY_MODEL_56e3b944edea47688448b9fae186338b",
       "value": "Movies from 2012: 100%"
      }
     },
     "ada6adf7071d4483a96c3031c1469ed3": {
      "model_module": "@jupyter-widgets/base",
      "model_module_version": "2.0.0",
      "model_name": "LayoutModel",
      "state": {}
     },
     "ae1d84b18ac44238ac0d663d5fa1b3a2": {
      "model_module": "@jupyter-widgets/controls",
      "model_module_version": "2.0.0",
      "model_name": "ProgressStyleModel",
      "state": {
       "description_width": ""
      }
     },
     "af4efc128f684b0ba9be1ef40850f84e": {
      "model_module": "@jupyter-widgets/controls",
      "model_module_version": "2.0.0",
      "model_name": "HTMLModel",
      "state": {
       "layout": "IPY_MODEL_56e4bf4e4b594de298b78f1ba71e9981",
       "style": "IPY_MODEL_dfc38572fb7c4cd89e1d5f0191ee4f45",
       "value": "Movies from 2015: 100%"
      }
     },
     "af702ba486704e6993da05307eb8eaa8": {
      "model_module": "@jupyter-widgets/controls",
      "model_module_version": "2.0.0",
      "model_name": "HBoxModel",
      "state": {
       "children": [
        "IPY_MODEL_aa3e2e431dcb4c32a41eecff0865df10",
        "IPY_MODEL_c8bba5fcb4e242909dbad0bc0a7f8722",
        "IPY_MODEL_b08dd4fce84041b584c1219f57b4bd27"
       ],
       "layout": "IPY_MODEL_da3696d25a974e83913fe9369cd2f760"
      }
     },
     "b08dd4fce84041b584c1219f57b4bd27": {
      "model_module": "@jupyter-widgets/controls",
      "model_module_version": "2.0.0",
      "model_name": "HTMLModel",
      "state": {
       "layout": "IPY_MODEL_faffe078f5874f1ca62572fc9f966f0e",
       "style": "IPY_MODEL_8ac4bc2908624153a4fc195522678eff",
       "value": " 4525/4525 [1:13:38&lt;00:00,  1.46it/s]"
      }
     },
     "b0ee2c308dd84675b035959a2ebb0c09": {
      "model_module": "@jupyter-widgets/base",
      "model_module_version": "2.0.0",
      "model_name": "LayoutModel",
      "state": {}
     },
     "b374905dee064470933a3b9fce01d4d3": {
      "model_module": "@jupyter-widgets/controls",
      "model_module_version": "2.0.0",
      "model_name": "ProgressStyleModel",
      "state": {
       "description_width": ""
      }
     },
     "b44600765f9245ca8796af4f71cf33fc": {
      "model_module": "@jupyter-widgets/controls",
      "model_module_version": "2.0.0",
      "model_name": "HTMLStyleModel",
      "state": {
       "description_width": "",
       "font_size": null,
       "text_color": null
      }
     },
     "b6ee5894369f4bec9a88a51156cfa2d1": {
      "model_module": "@jupyter-widgets/controls",
      "model_module_version": "2.0.0",
      "model_name": "HTMLStyleModel",
      "state": {
       "description_width": "",
       "font_size": null,
       "text_color": null
      }
     },
     "b7cd340687424f7dae766add1a58a68d": {
      "model_module": "@jupyter-widgets/base",
      "model_module_version": "2.0.0",
      "model_name": "LayoutModel",
      "state": {}
     },
     "b81ecc21dc7247a0a31cb939e858d3f3": {
      "model_module": "@jupyter-widgets/controls",
      "model_module_version": "2.0.0",
      "model_name": "HBoxModel",
      "state": {
       "children": [
        "IPY_MODEL_c6842bd3b7a9450d9e1e8ff2eba50e97",
        "IPY_MODEL_38fab790a5004146a467db480b012171",
        "IPY_MODEL_26989734e64a4052bdd4304c763bffef"
       ],
       "layout": "IPY_MODEL_b0ee2c308dd84675b035959a2ebb0c09"
      }
     },
     "b8f6e986a05548afaada699ded929287": {
      "model_module": "@jupyter-widgets/base",
      "model_module_version": "2.0.0",
      "model_name": "LayoutModel",
      "state": {}
     },
     "b93a441fc505412295ccf07389404a52": {
      "model_module": "@jupyter-widgets/controls",
      "model_module_version": "2.0.0",
      "model_name": "HTMLModel",
      "state": {
       "layout": "IPY_MODEL_d31baabc2db74b6d99366f4e4071ea75",
       "style": "IPY_MODEL_3b652c0edb9d4d80884033db07fde538",
       "value": " 5059/5059 [1:41:41&lt;00:00,  1.34it/s]"
      }
     },
     "b940bd1d6bb9421d8b2849f929d20a40": {
      "model_module": "@jupyter-widgets/base",
      "model_module_version": "2.0.0",
      "model_name": "LayoutModel",
      "state": {}
     },
     "ba2a121ffcb14bef95e5c33018addefe": {
      "model_module": "@jupyter-widgets/controls",
      "model_module_version": "2.0.0",
      "model_name": "ProgressStyleModel",
      "state": {
       "description_width": ""
      }
     },
     "ba6375e5ff0c458b98afac153ac71cbd": {
      "model_module": "@jupyter-widgets/controls",
      "model_module_version": "2.0.0",
      "model_name": "HBoxModel",
      "state": {
       "children": [
        "IPY_MODEL_d027afda7d4f43bb87e3d21807afef48",
        "IPY_MODEL_5dcb25c5ff7749c58d0138ba88b87a53",
        "IPY_MODEL_cac650162cdf4b13a059427938f9c5e8"
       ],
       "layout": "IPY_MODEL_9fe1bd95c1ba46539f932c0ce95ab7e9"
      }
     },
     "bbc367a3b38c4634849db277a436e50c": {
      "model_module": "@jupyter-widgets/base",
      "model_module_version": "2.0.0",
      "model_name": "LayoutModel",
      "state": {}
     },
     "be4f787f8f294428b271de846c351a4d": {
      "model_module": "@jupyter-widgets/base",
      "model_module_version": "2.0.0",
      "model_name": "LayoutModel",
      "state": {}
     },
     "c0c56baefe4046d880c163aa6cc5a894": {
      "model_module": "@jupyter-widgets/controls",
      "model_module_version": "2.0.0",
      "model_name": "HTMLModel",
      "state": {
       "layout": "IPY_MODEL_a55340d60f324f25824ef2bb07e67520",
       "style": "IPY_MODEL_1ddeaeb072324a9f88567daa44fbf2b3",
       "value": " 4906/4906 [1:36:23&lt;00:00,  1.64it/s]"
      }
     },
     "c1dd5e9d20f44d6aaee228053294bdf2": {
      "model_module": "@jupyter-widgets/controls",
      "model_module_version": "2.0.0",
      "model_name": "HBoxModel",
      "state": {
       "children": [
        "IPY_MODEL_8e99e5f5b64f4c238425d7dcf598dba8",
        "IPY_MODEL_65187f7406d44ea99c4e8a0fd6f14902",
        "IPY_MODEL_a1fed426dcfb43909b17ea69ce391eee"
       ],
       "layout": "IPY_MODEL_13507ab5d9614c00b63a8705079c3312"
      }
     },
     "c347483b17264c5791854a05df6b8f9f": {
      "model_module": "@jupyter-widgets/controls",
      "model_module_version": "2.0.0",
      "model_name": "FloatProgressModel",
      "state": {
       "bar_style": "success",
       "layout": "IPY_MODEL_90c9b75cb1fd4661a436262cdb1d0a1e",
       "max": 4906,
       "style": "IPY_MODEL_3a720e0f801042079d4f548eb1ea689a",
       "value": 4906
      }
     },
     "c6842bd3b7a9450d9e1e8ff2eba50e97": {
      "model_module": "@jupyter-widgets/controls",
      "model_module_version": "2.0.0",
      "model_name": "HTMLModel",
      "state": {
       "layout": "IPY_MODEL_b8f6e986a05548afaada699ded929287",
       "style": "IPY_MODEL_01b2a7722fdf4982b5deb98c433a8a38",
       "value": "Movies from 2019: 100%"
      }
     },
     "c8bba5fcb4e242909dbad0bc0a7f8722": {
      "model_module": "@jupyter-widgets/controls",
      "model_module_version": "2.0.0",
      "model_name": "FloatProgressModel",
      "state": {
       "bar_style": "success",
       "layout": "IPY_MODEL_be4f787f8f294428b271de846c351a4d",
       "max": 4525,
       "style": "IPY_MODEL_b374905dee064470933a3b9fce01d4d3",
       "value": 4525
      }
     },
     "c8cc357862344df0b304a49515805fe0": {
      "model_module": "@jupyter-widgets/base",
      "model_module_version": "2.0.0",
      "model_name": "LayoutModel",
      "state": {}
     },
     "c9396766c14e4c55927261d695f8b1b1": {
      "model_module": "@jupyter-widgets/controls",
      "model_module_version": "2.0.0",
      "model_name": "HTMLModel",
      "state": {
       "layout": "IPY_MODEL_82aa8c60ad0b4321883eb699299a6db5",
       "style": "IPY_MODEL_225b27f0cab84e87990c063b5a4a5544",
       "value": "Movies from 2014: 100%"
      }
     },
     "ca2c4c467e584dc183258cc4f2e33bd2": {
      "model_module": "@jupyter-widgets/controls",
      "model_module_version": "2.0.0",
      "model_name": "HBoxModel",
      "state": {
       "children": [
        "IPY_MODEL_3dead118b4ac4cc092d162fd570c1107",
        "IPY_MODEL_2d61a74e0ef6410d94cc5b8c4bdfa3ff",
        "IPY_MODEL_1b6d715fe9e64c459c75b15bfc652166"
       ],
       "layout": "IPY_MODEL_0989af2d5e6f459aa96090833e11addf"
      }
     },
     "cac650162cdf4b13a059427938f9c5e8": {
      "model_module": "@jupyter-widgets/controls",
      "model_module_version": "2.0.0",
      "model_name": "HTMLModel",
      "state": {
       "layout": "IPY_MODEL_3765e6d6b5cf46659ff71da4f2652855",
       "style": "IPY_MODEL_b44600765f9245ca8796af4f71cf33fc",
       "value": " 5648/5648 [1:43:14&lt;00:00,  1.88it/s]"
      }
     },
     "cb4b9fb7030c41be89ded266c37b3e6d": {
      "model_module": "@jupyter-widgets/base",
      "model_module_version": "2.0.0",
      "model_name": "LayoutModel",
      "state": {}
     },
     "cb6f5071c1e64d7cb561ac57f789f844": {
      "model_module": "@jupyter-widgets/base",
      "model_module_version": "2.0.0",
      "model_name": "LayoutModel",
      "state": {}
     },
     "cf820de1eab043a1baee0e69c0e424c6": {
      "model_module": "@jupyter-widgets/controls",
      "model_module_version": "2.0.0",
      "model_name": "HTMLStyleModel",
      "state": {
       "description_width": "",
       "font_size": null,
       "text_color": null
      }
     },
     "d027afda7d4f43bb87e3d21807afef48": {
      "model_module": "@jupyter-widgets/controls",
      "model_module_version": "2.0.0",
      "model_name": "HTMLModel",
      "state": {
       "layout": "IPY_MODEL_48c07d2e3b4c4c7b895a3d1d2d1d241d",
       "style": "IPY_MODEL_08b3002ece964c50bd760bcbf9bdb01a",
       "value": "Movies from 2017: 100%"
      }
     },
     "d31750c09a684506ae422b4388fef1ba": {
      "model_module": "@jupyter-widgets/controls",
      "model_module_version": "2.0.0",
      "model_name": "HBoxModel",
      "state": {
       "children": [
        "IPY_MODEL_d7a5cd3635d943429f681848cfbf2a22",
        "IPY_MODEL_82e75305714b4cde96e75873b59e4aff",
        "IPY_MODEL_eabd461792cc4cf4b00562aee5945c53"
       ],
       "layout": "IPY_MODEL_38f31bfe27b84291ac7f0ccdb4984664"
      }
     },
     "d31baabc2db74b6d99366f4e4071ea75": {
      "model_module": "@jupyter-widgets/base",
      "model_module_version": "2.0.0",
      "model_name": "LayoutModel",
      "state": {}
     },
     "d7a5cd3635d943429f681848cfbf2a22": {
      "model_module": "@jupyter-widgets/controls",
      "model_module_version": "2.0.0",
      "model_name": "HTMLModel",
      "state": {
       "layout": "IPY_MODEL_ada6adf7071d4483a96c3031c1469ed3",
       "style": "IPY_MODEL_f75a330b78944d818f3d4f9fbe0b9d42",
       "value": "Movies from 2016: 100%"
      }
     },
     "da3696d25a974e83913fe9369cd2f760": {
      "model_module": "@jupyter-widgets/base",
      "model_module_version": "2.0.0",
      "model_name": "LayoutModel",
      "state": {}
     },
     "dad805347bc24a66aa7fabdac2642324": {
      "model_module": "@jupyter-widgets/base",
      "model_module_version": "2.0.0",
      "model_name": "LayoutModel",
      "state": {}
     },
     "dd2a1bfdd65d4118a6ae4c75d89ed8b9": {
      "model_module": "@jupyter-widgets/base",
      "model_module_version": "2.0.0",
      "model_name": "LayoutModel",
      "state": {}
     },
     "dfc38572fb7c4cd89e1d5f0191ee4f45": {
      "model_module": "@jupyter-widgets/controls",
      "model_module_version": "2.0.0",
      "model_name": "HTMLStyleModel",
      "state": {
       "description_width": "",
       "font_size": null,
       "text_color": null
      }
     },
     "e1091f809d6742e3842d5c05de4101bd": {
      "model_module": "@jupyter-widgets/controls",
      "model_module_version": "2.0.0",
      "model_name": "HTMLStyleModel",
      "state": {
       "description_width": "",
       "font_size": null,
       "text_color": null
      }
     },
     "e459c396b9594238bf316ee8da376b97": {
      "model_module": "@jupyter-widgets/controls",
      "model_module_version": "2.0.0",
      "model_name": "HTMLStyleModel",
      "state": {
       "description_width": "",
       "font_size": null,
       "text_color": null
      }
     },
     "e59a1b9ccba64c67bab8bdf6397c19ba": {
      "model_module": "@jupyter-widgets/base",
      "model_module_version": "2.0.0",
      "model_name": "LayoutModel",
      "state": {}
     },
     "e7655de80e8a4787b6246d3af4616591": {
      "model_module": "@jupyter-widgets/controls",
      "model_module_version": "2.0.0",
      "model_name": "FloatProgressModel",
      "state": {
       "bar_style": "success",
       "layout": "IPY_MODEL_b7cd340687424f7dae766add1a58a68d",
       "max": 4727,
       "style": "IPY_MODEL_651314d94ac340488055e7091f0263a9",
       "value": 4727
      }
     },
     "eabd461792cc4cf4b00562aee5945c53": {
      "model_module": "@jupyter-widgets/controls",
      "model_module_version": "2.0.0",
      "model_name": "HTMLModel",
      "state": {
       "layout": "IPY_MODEL_62e12735b2bd499bbea2869efd496fc1",
       "style": "IPY_MODEL_e1091f809d6742e3842d5c05de4101bd",
       "value": " 5255/5255 [1:32:05&lt;00:00,  1.22s/it]"
      }
     },
     "f21ed022dc6647a98a67ab58ccaaf87f": {
      "model_module": "@jupyter-widgets/base",
      "model_module_version": "2.0.0",
      "model_name": "LayoutModel",
      "state": {}
     },
     "f37b22b5b9004a7298807c5f752af06d": {
      "model_module": "@jupyter-widgets/controls",
      "model_module_version": "2.0.0",
      "model_name": "HTMLStyleModel",
      "state": {
       "description_width": "",
       "font_size": null,
       "text_color": null
      }
     },
     "f4b826c9444840d78af78df21b43533f": {
      "model_module": "@jupyter-widgets/base",
      "model_module_version": "2.0.0",
      "model_name": "LayoutModel",
      "state": {}
     },
     "f5b5a72ff2124503810e7a30ec2f8a4b": {
      "model_module": "@jupyter-widgets/controls",
      "model_module_version": "2.0.0",
      "model_name": "ProgressStyleModel",
      "state": {
       "description_width": ""
      }
     },
     "f75a330b78944d818f3d4f9fbe0b9d42": {
      "model_module": "@jupyter-widgets/controls",
      "model_module_version": "2.0.0",
      "model_name": "HTMLStyleModel",
      "state": {
       "description_width": "",
       "font_size": null,
       "text_color": null
      }
     },
     "f7dd17fc74ce43a5a212ac839d2a9839": {
      "model_module": "@jupyter-widgets/base",
      "model_module_version": "2.0.0",
      "model_name": "LayoutModel",
      "state": {}
     },
     "faffe078f5874f1ca62572fc9f966f0e": {
      "model_module": "@jupyter-widgets/base",
      "model_module_version": "2.0.0",
      "model_name": "LayoutModel",
      "state": {}
     }
    },
    "version_major": 2,
    "version_minor": 0
   }
  }
 },
 "nbformat": 4,
 "nbformat_minor": 5
}
